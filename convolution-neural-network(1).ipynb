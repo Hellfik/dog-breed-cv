{
 "cells": [
  {
   "cell_type": "code",
   "execution_count": 1,
   "id": "conditional-encoding",
   "metadata": {
    "execution": {
     "iopub.execute_input": "2021-06-11T08:19:04.606133Z",
     "iopub.status.busy": "2021-06-11T08:19:04.598198Z",
     "iopub.status.idle": "2021-06-11T08:19:05.265472Z",
     "shell.execute_reply": "2021-06-11T08:19:05.264813Z",
     "shell.execute_reply.started": "2021-06-11T08:10:07.535708Z"
    },
    "papermill": {
     "duration": 0.709661,
     "end_time": "2021-06-11T08:19:05.265623",
     "exception": false,
     "start_time": "2021-06-11T08:19:04.555962",
     "status": "completed"
    },
    "tags": []
   },
   "outputs": [
    {
     "name": "stdout",
     "output_type": "stream",
     "text": [
      "Fri Jun 11 08:19:05 2021       \r\n",
      "+-----------------------------------------------------------------------------+\r\n",
      "| NVIDIA-SMI 450.119.04   Driver Version: 450.119.04   CUDA Version: 11.0     |\r\n",
      "|-------------------------------+----------------------+----------------------+\r\n",
      "| GPU  Name        Persistence-M| Bus-Id        Disp.A | Volatile Uncorr. ECC |\r\n",
      "| Fan  Temp  Perf  Pwr:Usage/Cap|         Memory-Usage | GPU-Util  Compute M. |\r\n",
      "|                               |                      |               MIG M. |\r\n",
      "|===============================+======================+======================|\r\n",
      "|   0  Tesla P100-PCIE...  Off  | 00000000:00:04.0 Off |                    0 |\r\n",
      "| N/A   35C    P0    27W / 250W |      0MiB / 16280MiB |      0%      Default |\r\n",
      "|                               |                      |                  N/A |\r\n",
      "+-------------------------------+----------------------+----------------------+\r\n",
      "                                                                               \r\n",
      "+-----------------------------------------------------------------------------+\r\n",
      "| Processes:                                                                  |\r\n",
      "|  GPU   GI   CI        PID   Type   Process name                  GPU Memory |\r\n",
      "|        ID   ID                                                   Usage      |\r\n",
      "|=============================================================================|\r\n",
      "|  No running processes found                                                 |\r\n",
      "+-----------------------------------------------------------------------------+\r\n"
     ]
    }
   ],
   "source": [
    "# Printing CPU infos (CPU allocated : Tesla p-100)\n",
    "!nvidia-smi"
   ]
  },
  {
   "cell_type": "markdown",
   "id": "focal-tomato",
   "metadata": {
    "papermill": {
     "duration": 0.03151,
     "end_time": "2021-06-11T08:19:05.330527",
     "exception": false,
     "start_time": "2021-06-11T08:19:05.299017",
     "status": "completed"
    },
    "tags": []
   },
   "source": [
    "# Set up"
   ]
  },
  {
   "cell_type": "markdown",
   "id": "dressed-return",
   "metadata": {
    "papermill": {
     "duration": 0.032058,
     "end_time": "2021-06-11T08:19:05.395349",
     "exception": false,
     "start_time": "2021-06-11T08:19:05.363291",
     "status": "completed"
    },
    "tags": []
   },
   "source": [
    "First, let's import a few common modules, ensure MatplotLib plots figures inline and prepare a function to save the figures. We also check that Python 3.5 or later is installed (although Python 2.x may work, it is deprecated so we strongly recommend you use Python 3 instead), as well as Scikit-Learn ≥0.20 and TensorFlow ≥2.0"
   ]
  },
  {
   "cell_type": "code",
   "execution_count": 2,
   "id": "interstate-manual",
   "metadata": {
    "execution": {
     "iopub.execute_input": "2021-06-11T08:19:05.466620Z",
     "iopub.status.busy": "2021-06-11T08:19:05.465919Z",
     "iopub.status.idle": "2021-06-11T08:19:10.598285Z",
     "shell.execute_reply": "2021-06-11T08:19:10.597793Z",
     "shell.execute_reply.started": "2021-06-11T08:10:08.222884Z"
    },
    "papermill": {
     "duration": 5.171043,
     "end_time": "2021-06-11T08:19:10.598414",
     "exception": false,
     "start_time": "2021-06-11T08:19:05.427371",
     "status": "completed"
    },
    "tags": []
   },
   "outputs": [],
   "source": [
    "# Python ≥3.5 is required\n",
    "import sys\n",
    "assert sys.version_info >= (3, 5)\n",
    "\n",
    "# Is this notebook running on Colab or Kaggle?\n",
    "IS_COLAB = \"google.colab\" in sys.modules\n",
    "IS_KAGGLE = \"kaggle_secrets\" in sys.modules\n",
    "\n",
    "# Scikit-Learn ≥0.20 is required\n",
    "import sklearn\n",
    "assert sklearn.__version__ >= \"0.20\"\n",
    "\n",
    "# TensorFlow ≥2.0 is required\n",
    "import tensorflow as tf\n",
    "from tensorflow import keras\n",
    "assert tf.__version__ >= \"2.0\"\n",
    "\n",
    "if not tf.config.list_physical_devices('GPU'):\n",
    "    print(\"No GPU was detected. CNNs can be very slow without a GPU.\")\n",
    "    if IS_COLAB:\n",
    "        print(\"Go to Runtime > Change runtime and select a GPU hardware accelerator.\")\n",
    "    if IS_KAGGLE:\n",
    "        print(\"Go to Settings > Accelerator and select GPU.\")\n",
    "\n",
    "# Common imports\n",
    "import numpy as np\n",
    "import pandas as pd\n",
    "import seaborn as sns\n",
    "import os\n",
    "from keras.preprocessing.image import img_to_array, load_img, ImageDataGenerator"
   ]
  },
  {
   "cell_type": "code",
   "execution_count": 3,
   "id": "banner-freeware",
   "metadata": {
    "execution": {
     "iopub.execute_input": "2021-06-11T08:19:10.675590Z",
     "iopub.status.busy": "2021-06-11T08:19:10.674678Z",
     "iopub.status.idle": "2021-06-11T08:19:10.679086Z",
     "shell.execute_reply": "2021-06-11T08:19:10.678612Z",
     "shell.execute_reply.started": "2021-06-11T08:10:14.613802Z"
    },
    "papermill": {
     "duration": 0.048151,
     "end_time": "2021-06-11T08:19:10.679200",
     "exception": false,
     "start_time": "2021-06-11T08:19:10.631049",
     "status": "completed"
    },
    "tags": []
   },
   "outputs": [],
   "source": [
    "# to make this notebook's output stable across runs\n",
    "np.random.seed(42)\n",
    "tf.random.set_seed(42)\n",
    "\n",
    "# To plot pretty figures\n",
    "%matplotlib inline\n",
    "import matplotlib as mpl\n",
    "import matplotlib.pyplot as plt\n",
    "mpl.rc('axes', labelsize=14)\n",
    "mpl.rc('xtick', labelsize=12)\n",
    "mpl.rc('ytick', labelsize=12)\n",
    "\n",
    "# Where to save the figures\n",
    "PROJECT_ROOT_DIR = \".\"\n",
    "CHAPTER_ID = \"cnn\"\n",
    "IMAGES_PATH = os.path.join(PROJECT_ROOT_DIR, \"images\", CHAPTER_ID)\n",
    "os.makedirs(IMAGES_PATH, exist_ok=True)\n",
    "\n",
    "# Function to save figures\n",
    "def save_fig(fig_id, tight_layout=True, fig_extension=\"png\", resolution=300):\n",
    "    path = os.path.join(IMAGES_PATH, fig_id + \".\" + fig_extension)\n",
    "    print(\"Saving figure\", fig_id)\n",
    "    if tight_layout:\n",
    "        plt.tight_layout()\n",
    "    plt.savefig(path, format=fig_extension, dpi=resolution)"
   ]
  },
  {
   "cell_type": "markdown",
   "id": "south-mouse",
   "metadata": {
    "papermill": {
     "duration": 0.031883,
     "end_time": "2021-06-11T08:19:10.743457",
     "exception": false,
     "start_time": "2021-06-11T08:19:10.711574",
     "status": "completed"
    },
    "tags": []
   },
   "source": [
    "A couple utility functions to plot grayscale and RGB images:"
   ]
  },
  {
   "cell_type": "code",
   "execution_count": 4,
   "id": "noble-sailing",
   "metadata": {
    "execution": {
     "iopub.execute_input": "2021-06-11T08:19:10.815382Z",
     "iopub.status.busy": "2021-06-11T08:19:10.814810Z",
     "iopub.status.idle": "2021-06-11T08:19:10.818682Z",
     "shell.execute_reply": "2021-06-11T08:19:10.818286Z",
     "shell.execute_reply.started": "2021-06-11T08:10:14.633657Z"
    },
    "papermill": {
     "duration": 0.041605,
     "end_time": "2021-06-11T08:19:10.818813",
     "exception": false,
     "start_time": "2021-06-11T08:19:10.777208",
     "status": "completed"
    },
    "tags": []
   },
   "outputs": [],
   "source": [
    "def plot_image(image):\n",
    "    plt.imshow(image, cmap=\"gray\", interpolation=\"nearest\")\n",
    "    plt.axis(\"off\")\n",
    "\n",
    "def plot_color_image(image):\n",
    "    plt.imshow(image, interpolation=\"nearest\")\n",
    "    plt.axis(\"off\")"
   ]
  },
  {
   "cell_type": "markdown",
   "id": "elect-yield",
   "metadata": {
    "papermill": {
     "duration": 0.037064,
     "end_time": "2021-06-11T08:19:10.889338",
     "exception": false,
     "start_time": "2021-06-11T08:19:10.852274",
     "status": "completed"
    },
    "tags": []
   },
   "source": [
    "# Part 1 - Import Dataset"
   ]
  },
  {
   "cell_type": "code",
   "execution_count": 5,
   "id": "coupled-inflation",
   "metadata": {
    "execution": {
     "iopub.execute_input": "2021-06-11T08:19:10.961012Z",
     "iopub.status.busy": "2021-06-11T08:19:10.960409Z",
     "iopub.status.idle": "2021-06-11T08:19:10.983717Z",
     "shell.execute_reply": "2021-06-11T08:19:10.983264Z",
     "shell.execute_reply.started": "2021-06-11T08:10:14.644011Z"
    },
    "papermill": {
     "duration": 0.061087,
     "end_time": "2021-06-11T08:19:10.983906",
     "exception": false,
     "start_time": "2021-06-11T08:19:10.922819",
     "status": "completed"
    },
    "tags": []
   },
   "outputs": [],
   "source": [
    "# Import the dataset from the input folder\n",
    "df = pd.read_csv('../input/dog-breed-identification/labels.csv')"
   ]
  },
  {
   "cell_type": "code",
   "execution_count": 6,
   "id": "statutory-samba",
   "metadata": {
    "execution": {
     "iopub.execute_input": "2021-06-11T08:19:11.054192Z",
     "iopub.status.busy": "2021-06-11T08:19:11.053435Z",
     "iopub.status.idle": "2021-06-11T08:19:11.058056Z",
     "shell.execute_reply": "2021-06-11T08:19:11.058461Z",
     "shell.execute_reply.started": "2021-06-11T08:10:14.677767Z"
    },
    "papermill": {
     "duration": 0.042654,
     "end_time": "2021-06-11T08:19:11.058593",
     "exception": false,
     "start_time": "2021-06-11T08:19:11.015939",
     "status": "completed"
    },
    "tags": []
   },
   "outputs": [
    {
     "data": {
      "text/plain": [
       "(10222, 2)"
      ]
     },
     "execution_count": 6,
     "metadata": {},
     "output_type": "execute_result"
    }
   ],
   "source": [
    "# Printing the dimensions of the dataset\n",
    "df.shape"
   ]
  },
  {
   "cell_type": "code",
   "execution_count": 7,
   "id": "induced-pottery",
   "metadata": {
    "execution": {
     "iopub.execute_input": "2021-06-11T08:19:11.135698Z",
     "iopub.status.busy": "2021-06-11T08:19:11.135097Z",
     "iopub.status.idle": "2021-06-11T08:19:11.143665Z",
     "shell.execute_reply": "2021-06-11T08:19:11.144051Z",
     "shell.execute_reply.started": "2021-06-11T08:10:14.686629Z"
    },
    "papermill": {
     "duration": 0.053131,
     "end_time": "2021-06-11T08:19:11.144194",
     "exception": false,
     "start_time": "2021-06-11T08:19:11.091063",
     "status": "completed"
    },
    "tags": []
   },
   "outputs": [
    {
     "data": {
      "text/html": [
       "<div>\n",
       "<style scoped>\n",
       "    .dataframe tbody tr th:only-of-type {\n",
       "        vertical-align: middle;\n",
       "    }\n",
       "\n",
       "    .dataframe tbody tr th {\n",
       "        vertical-align: top;\n",
       "    }\n",
       "\n",
       "    .dataframe thead th {\n",
       "        text-align: right;\n",
       "    }\n",
       "</style>\n",
       "<table border=\"1\" class=\"dataframe\">\n",
       "  <thead>\n",
       "    <tr style=\"text-align: right;\">\n",
       "      <th></th>\n",
       "      <th>id</th>\n",
       "      <th>breed</th>\n",
       "    </tr>\n",
       "  </thead>\n",
       "  <tbody>\n",
       "    <tr>\n",
       "      <th>0</th>\n",
       "      <td>000bec180eb18c7604dcecc8fe0dba07</td>\n",
       "      <td>boston_bull</td>\n",
       "    </tr>\n",
       "    <tr>\n",
       "      <th>1</th>\n",
       "      <td>001513dfcb2ffafc82cccf4d8bbaba97</td>\n",
       "      <td>dingo</td>\n",
       "    </tr>\n",
       "    <tr>\n",
       "      <th>2</th>\n",
       "      <td>001cdf01b096e06d78e9e5112d419397</td>\n",
       "      <td>pekinese</td>\n",
       "    </tr>\n",
       "    <tr>\n",
       "      <th>3</th>\n",
       "      <td>00214f311d5d2247d5dfe4fe24b2303d</td>\n",
       "      <td>bluetick</td>\n",
       "    </tr>\n",
       "    <tr>\n",
       "      <th>4</th>\n",
       "      <td>0021f9ceb3235effd7fcde7f7538ed62</td>\n",
       "      <td>golden_retriever</td>\n",
       "    </tr>\n",
       "  </tbody>\n",
       "</table>\n",
       "</div>"
      ],
      "text/plain": [
       "                                 id             breed\n",
       "0  000bec180eb18c7604dcecc8fe0dba07       boston_bull\n",
       "1  001513dfcb2ffafc82cccf4d8bbaba97             dingo\n",
       "2  001cdf01b096e06d78e9e5112d419397          pekinese\n",
       "3  00214f311d5d2247d5dfe4fe24b2303d          bluetick\n",
       "4  0021f9ceb3235effd7fcde7f7538ed62  golden_retriever"
      ]
     },
     "execution_count": 7,
     "metadata": {},
     "output_type": "execute_result"
    }
   ],
   "source": [
    "# Display the first five rows\n",
    "df.head()"
   ]
  },
  {
   "cell_type": "markdown",
   "id": "stone-socket",
   "metadata": {
    "papermill": {
     "duration": 0.032227,
     "end_time": "2021-06-11T08:19:11.208733",
     "exception": false,
     "start_time": "2021-06-11T08:19:11.176506",
     "status": "completed"
    },
    "tags": []
   },
   "source": [
    "Let's add a new column in this dataframe with the path of each dog image."
   ]
  },
  {
   "cell_type": "code",
   "execution_count": 8,
   "id": "loose-bikini",
   "metadata": {
    "execution": {
     "iopub.execute_input": "2021-06-11T08:19:11.279644Z",
     "iopub.status.busy": "2021-06-11T08:19:11.279118Z",
     "iopub.status.idle": "2021-06-11T08:19:11.299098Z",
     "shell.execute_reply": "2021-06-11T08:19:11.298215Z",
     "shell.execute_reply.started": "2021-06-11T08:10:14.712292Z"
    },
    "papermill": {
     "duration": 0.058118,
     "end_time": "2021-06-11T08:19:11.299225",
     "exception": false,
     "start_time": "2021-06-11T08:19:11.241107",
     "status": "completed"
    },
    "tags": []
   },
   "outputs": [],
   "source": [
    "# Path to the train folder containing all the images\n",
    "IMG_TRAIN_PATH = \"/kaggle/input/dog-breed-identification/train/\"\n",
    "\n",
    "# Path to the test folder containing all the test images\n",
    "IMG_TEST_PATH = \"/kaggle/input/dog-breed-identification/test/\"\n",
    "\n",
    "# Creating the new dataframe column \"img_path\"\n",
    "df = df.assign(img_path = lambda x: IMG_TRAIN_PATH + x['id'] + '.jpg')"
   ]
  },
  {
   "cell_type": "code",
   "execution_count": 9,
   "id": "cross-technician",
   "metadata": {
    "execution": {
     "iopub.execute_input": "2021-06-11T08:19:11.372712Z",
     "iopub.status.busy": "2021-06-11T08:19:11.372194Z",
     "iopub.status.idle": "2021-06-11T08:19:11.377004Z",
     "shell.execute_reply": "2021-06-11T08:19:11.377412Z",
     "shell.execute_reply.started": "2021-06-11T08:10:14.737934Z"
    },
    "papermill": {
     "duration": 0.04587,
     "end_time": "2021-06-11T08:19:11.377543",
     "exception": false,
     "start_time": "2021-06-11T08:19:11.331673",
     "status": "completed"
    },
    "tags": []
   },
   "outputs": [
    {
     "data": {
      "text/html": [
       "<div>\n",
       "<style scoped>\n",
       "    .dataframe tbody tr th:only-of-type {\n",
       "        vertical-align: middle;\n",
       "    }\n",
       "\n",
       "    .dataframe tbody tr th {\n",
       "        vertical-align: top;\n",
       "    }\n",
       "\n",
       "    .dataframe thead th {\n",
       "        text-align: right;\n",
       "    }\n",
       "</style>\n",
       "<table border=\"1\" class=\"dataframe\">\n",
       "  <thead>\n",
       "    <tr style=\"text-align: right;\">\n",
       "      <th></th>\n",
       "      <th>id</th>\n",
       "      <th>breed</th>\n",
       "      <th>img_path</th>\n",
       "    </tr>\n",
       "  </thead>\n",
       "  <tbody>\n",
       "    <tr>\n",
       "      <th>0</th>\n",
       "      <td>000bec180eb18c7604dcecc8fe0dba07</td>\n",
       "      <td>boston_bull</td>\n",
       "      <td>/kaggle/input/dog-breed-identification/train/0...</td>\n",
       "    </tr>\n",
       "    <tr>\n",
       "      <th>1</th>\n",
       "      <td>001513dfcb2ffafc82cccf4d8bbaba97</td>\n",
       "      <td>dingo</td>\n",
       "      <td>/kaggle/input/dog-breed-identification/train/0...</td>\n",
       "    </tr>\n",
       "    <tr>\n",
       "      <th>2</th>\n",
       "      <td>001cdf01b096e06d78e9e5112d419397</td>\n",
       "      <td>pekinese</td>\n",
       "      <td>/kaggle/input/dog-breed-identification/train/0...</td>\n",
       "    </tr>\n",
       "    <tr>\n",
       "      <th>3</th>\n",
       "      <td>00214f311d5d2247d5dfe4fe24b2303d</td>\n",
       "      <td>bluetick</td>\n",
       "      <td>/kaggle/input/dog-breed-identification/train/0...</td>\n",
       "    </tr>\n",
       "    <tr>\n",
       "      <th>4</th>\n",
       "      <td>0021f9ceb3235effd7fcde7f7538ed62</td>\n",
       "      <td>golden_retriever</td>\n",
       "      <td>/kaggle/input/dog-breed-identification/train/0...</td>\n",
       "    </tr>\n",
       "  </tbody>\n",
       "</table>\n",
       "</div>"
      ],
      "text/plain": [
       "                                 id             breed  \\\n",
       "0  000bec180eb18c7604dcecc8fe0dba07       boston_bull   \n",
       "1  001513dfcb2ffafc82cccf4d8bbaba97             dingo   \n",
       "2  001cdf01b096e06d78e9e5112d419397          pekinese   \n",
       "3  00214f311d5d2247d5dfe4fe24b2303d          bluetick   \n",
       "4  0021f9ceb3235effd7fcde7f7538ed62  golden_retriever   \n",
       "\n",
       "                                            img_path  \n",
       "0  /kaggle/input/dog-breed-identification/train/0...  \n",
       "1  /kaggle/input/dog-breed-identification/train/0...  \n",
       "2  /kaggle/input/dog-breed-identification/train/0...  \n",
       "3  /kaggle/input/dog-breed-identification/train/0...  \n",
       "4  /kaggle/input/dog-breed-identification/train/0...  "
      ]
     },
     "execution_count": 9,
     "metadata": {},
     "output_type": "execute_result"
    }
   ],
   "source": [
    "df.head()"
   ]
  },
  {
   "cell_type": "code",
   "execution_count": 10,
   "id": "exotic-office",
   "metadata": {
    "execution": {
     "iopub.execute_input": "2021-06-11T08:19:11.459108Z",
     "iopub.status.busy": "2021-06-11T08:19:11.458265Z",
     "iopub.status.idle": "2021-06-11T08:19:13.999647Z",
     "shell.execute_reply": "2021-06-11T08:19:13.999174Z",
     "shell.execute_reply.started": "2021-06-11T08:10:14.753826Z"
    },
    "papermill": {
     "duration": 2.589589,
     "end_time": "2021-06-11T08:19:13.999785",
     "exception": false,
     "start_time": "2021-06-11T08:19:11.410196",
     "status": "completed"
    },
    "tags": []
   },
   "outputs": [
    {
     "data": {
      "image/png": "[encoded data removed]",
      "text/plain": [
       "<Figure size 2880x720 with 1 Axes>"
      ]
     },
     "metadata": {
      "needs_background": "light"
     },
     "output_type": "display_data"
    }
   ],
   "source": [
    "# Checking the number of images we have for each class\n",
    "fig = plt.figure(figsize = (40, 10))\n",
    "ax = fig.add_axes([0,0,1,1])\n",
    "ax.set_title(\"labels in Data set\", fontsize = 50)\n",
    "sns.countplot(x = \"breed\", data = df)\n",
    "for i in ax.patches:\n",
    "    ax.text(x = i.get_x() + 0.2, y = i.get_height()+1.5, s = str(i.get_height()), fontsize = 10, color = \"black\")\n",
    "plt.xlabel(\"\")\n",
    "plt.ylabel(\"Count\", fontsize = 35)\n",
    "plt.tick_params(labelsize = 5)\n",
    "plt.xticks(rotation = 90)\n",
    "plt.show()  "
   ]
  },
  {
   "cell_type": "markdown",
   "id": "incredible-theater",
   "metadata": {
    "papermill": {
     "duration": 0.037016,
     "end_time": "2021-06-11T08:19:14.075287",
     "exception": false,
     "start_time": "2021-06-11T08:19:14.038271",
     "status": "completed"
    },
    "tags": []
   },
   "source": [
    "# Part 2 - Data preprocessing"
   ]
  },
  {
   "cell_type": "markdown",
   "id": "dressed-apparatus",
   "metadata": {
    "papermill": {
     "duration": 0.038071,
     "end_time": "2021-06-11T08:19:14.151624",
     "exception": false,
     "start_time": "2021-06-11T08:19:14.113553",
     "status": "completed"
    },
    "tags": []
   },
   "source": [
    "## Preprocessing the training set"
   ]
  },
  {
   "cell_type": "code",
   "execution_count": 11,
   "id": "moving-yesterday",
   "metadata": {
    "execution": {
     "iopub.execute_input": "2021-06-11T08:19:14.232591Z",
     "iopub.status.busy": "2021-06-11T08:19:14.231612Z",
     "iopub.status.idle": "2021-06-11T08:19:14.234368Z",
     "shell.execute_reply": "2021-06-11T08:19:14.233920Z",
     "shell.execute_reply.started": "2021-06-11T08:10:17.257547Z"
    },
    "papermill": {
     "duration": 0.045589,
     "end_time": "2021-06-11T08:19:14.234482",
     "exception": false,
     "start_time": "2021-06-11T08:19:14.188893",
     "status": "completed"
    },
    "tags": []
   },
   "outputs": [],
   "source": [
    "# Applying transformation to all the images of the training set to avoid overfitting\n",
    "train_datagen = ImageDataGenerator(\n",
    "    rescale = 1./255, # rescaling factor. Defaults to None. If None or 0, no rescaling is applied \n",
    "    shear_range = 0.2, # Float. Shear Intensity (Shear angle in counter-clockwise direction in degrees)\n",
    "    zoom_range = 0.2, # Float or [lower, upper]. Range for random zoom.\n",
    "    horizontal_flip = True # Boolean. Randomly flip inputs vertically.\n",
    ")"
   ]
  },
  {
   "cell_type": "markdown",
   "id": "foster-permit",
   "metadata": {
    "papermill": {
     "duration": 0.036692,
     "end_time": "2021-06-11T08:19:14.308882",
     "exception": false,
     "start_time": "2021-06-11T08:19:14.272190",
     "status": "completed"
    },
    "tags": []
   },
   "source": [
    "## Preprocessing the testing set"
   ]
  },
  {
   "cell_type": "code",
   "execution_count": 12,
   "id": "fresh-lincoln",
   "metadata": {
    "execution": {
     "iopub.execute_input": "2021-06-11T08:19:14.387757Z",
     "iopub.status.busy": "2021-06-11T08:19:14.386881Z",
     "iopub.status.idle": "2021-06-11T08:19:14.389655Z",
     "shell.execute_reply": "2021-06-11T08:19:14.389261Z",
     "shell.execute_reply.started": "2021-06-11T08:10:17.264149Z"
    },
    "papermill": {
     "duration": 0.04352,
     "end_time": "2021-06-11T08:19:14.389777",
     "exception": false,
     "start_time": "2021-06-11T08:19:14.346257",
     "status": "completed"
    },
    "tags": []
   },
   "outputs": [],
   "source": [
    "test_datagen = ImageDataGenerator(\n",
    "    rescale = 1./255 #Normalization\n",
    ")"
   ]
  },
  {
   "cell_type": "markdown",
   "id": "lined-attraction",
   "metadata": {
    "papermill": {
     "duration": 0.036705,
     "end_time": "2021-06-11T08:19:14.463348",
     "exception": false,
     "start_time": "2021-06-11T08:19:14.426643",
     "status": "completed"
    },
    "tags": []
   },
   "source": [
    "# Part 3 - Splitting the dataset into the training set and the testing set"
   ]
  },
  {
   "cell_type": "code",
   "execution_count": 13,
   "id": "rough-likelihood",
   "metadata": {
    "execution": {
     "iopub.execute_input": "2021-06-11T08:19:14.543684Z",
     "iopub.status.busy": "2021-06-11T08:19:14.543056Z",
     "iopub.status.idle": "2021-06-11T08:20:15.317638Z",
     "shell.execute_reply": "2021-06-11T08:20:15.317162Z",
     "shell.execute_reply.started": "2021-06-11T08:10:17.277027Z"
    },
    "papermill": {
     "duration": 60.815704,
     "end_time": "2021-06-11T08:20:15.317789",
     "exception": false,
     "start_time": "2021-06-11T08:19:14.502085",
     "status": "completed"
    },
    "tags": []
   },
   "outputs": [],
   "source": [
    "# Converting all the images to an array and resizing them to a 64x64 image (64 was chosen for less computing time)\n",
    "X = np.array([img_to_array(load_img(img, target_size = (64,64))) for img in df['img_path'].values.tolist()])\n",
    "# Encoding the target variable\n",
    "y = pd.get_dummies(df['breed'])"
   ]
  },
  {
   "cell_type": "code",
   "execution_count": 14,
   "id": "anticipated-monte",
   "metadata": {
    "execution": {
     "iopub.execute_input": "2021-06-11T08:20:15.392194Z",
     "iopub.status.busy": "2021-06-11T08:20:15.391564Z",
     "iopub.status.idle": "2021-06-11T08:20:15.395731Z",
     "shell.execute_reply": "2021-06-11T08:20:15.395340Z",
     "shell.execute_reply.started": "2021-06-11T08:11:28.342947Z"
    },
    "papermill": {
     "duration": 0.042611,
     "end_time": "2021-06-11T08:20:15.395855",
     "exception": false,
     "start_time": "2021-06-11T08:20:15.353244",
     "status": "completed"
    },
    "tags": []
   },
   "outputs": [
    {
     "name": "stdout",
     "output_type": "stream",
     "text": [
      "(10222, 64, 64, 3) (10222, 120)\n"
     ]
    }
   ],
   "source": [
    "print(X.shape, y.shape)"
   ]
  },
  {
   "cell_type": "code",
   "execution_count": 15,
   "id": "exciting-internet",
   "metadata": {
    "execution": {
     "iopub.execute_input": "2021-06-11T08:20:15.470416Z",
     "iopub.status.busy": "2021-06-11T08:20:15.469799Z",
     "iopub.status.idle": "2021-06-11T08:20:15.691777Z",
     "shell.execute_reply": "2021-06-11T08:20:15.692476Z",
     "shell.execute_reply.started": "2021-06-11T08:11:28.352463Z"
    },
    "papermill": {
     "duration": 0.26182,
     "end_time": "2021-06-11T08:20:15.692681",
     "exception": false,
     "start_time": "2021-06-11T08:20:15.430861",
     "status": "completed"
    },
    "tags": []
   },
   "outputs": [
    {
     "name": "stdout",
     "output_type": "stream",
     "text": [
      "(8177, 64, 64, 3) (8177, 120)\n",
      "(2045, 64, 64, 3) (2045, 120)\n"
     ]
    }
   ],
   "source": [
    "from sklearn.model_selection import train_test_split\n",
    "\n",
    "X_train ,X_test, y_train, y_test = train_test_split(X,y, train_size = 0.8)\n",
    "\n",
    "print(X_train.shape,y_train.shape)\n",
    "print(X_test.shape,y_test.shape)"
   ]
  },
  {
   "cell_type": "code",
   "execution_count": 16,
   "id": "lesbian-burns",
   "metadata": {
    "execution": {
     "iopub.execute_input": "2021-06-11T08:20:15.784116Z",
     "iopub.status.busy": "2021-06-11T08:20:15.782819Z",
     "iopub.status.idle": "2021-06-11T08:20:16.013807Z",
     "shell.execute_reply": "2021-06-11T08:20:16.013330Z",
     "shell.execute_reply.started": "2021-06-11T08:11:28.572768Z"
    },
    "papermill": {
     "duration": 0.282114,
     "end_time": "2021-06-11T08:20:16.013940",
     "exception": false,
     "start_time": "2021-06-11T08:20:15.731826",
     "status": "completed"
    },
    "tags": []
   },
   "outputs": [],
   "source": [
    "# Applying transformation to the training set\n",
    "train_datagen.fit(X_train)\n",
    "# Applying transformation to the testing set\n",
    "test_datagen.fit(X_test)"
   ]
  },
  {
   "cell_type": "markdown",
   "id": "greenhouse-fossil",
   "metadata": {
    "papermill": {
     "duration": 0.035074,
     "end_time": "2021-06-11T08:20:16.085356",
     "exception": false,
     "start_time": "2021-06-11T08:20:16.050282",
     "status": "completed"
    },
    "tags": []
   },
   "source": [
    "# Part 4 - Building the CNN"
   ]
  },
  {
   "cell_type": "markdown",
   "id": "breeding-prince",
   "metadata": {
    "papermill": {
     "duration": 0.035358,
     "end_time": "2021-06-11T08:20:16.156071",
     "exception": false,
     "start_time": "2021-06-11T08:20:16.120713",
     "status": "completed"
    },
    "tags": []
   },
   "source": [
    "## Initialising the CNN"
   ]
  },
  {
   "cell_type": "code",
   "execution_count": 17,
   "id": "amateur-absolute",
   "metadata": {
    "execution": {
     "iopub.execute_input": "2021-06-11T08:20:16.230831Z",
     "iopub.status.busy": "2021-06-11T08:20:16.230264Z",
     "iopub.status.idle": "2021-06-11T08:20:17.761637Z",
     "shell.execute_reply": "2021-06-11T08:20:17.761187Z",
     "shell.execute_reply.started": "2021-06-11T08:11:28.800862Z"
    },
    "papermill": {
     "duration": 1.570354,
     "end_time": "2021-06-11T08:20:17.761775",
     "exception": false,
     "start_time": "2021-06-11T08:20:16.191421",
     "status": "completed"
    },
    "tags": []
   },
   "outputs": [],
   "source": [
    "cnn = tf.keras.models.Sequential()"
   ]
  },
  {
   "cell_type": "markdown",
   "id": "quarterly-there",
   "metadata": {
    "papermill": {
     "duration": 0.035693,
     "end_time": "2021-06-11T08:20:17.833316",
     "exception": false,
     "start_time": "2021-06-11T08:20:17.797623",
     "status": "completed"
    },
    "tags": []
   },
   "source": [
    "## Step 1 - Convolution"
   ]
  },
  {
   "cell_type": "code",
   "execution_count": 18,
   "id": "lasting-elevation",
   "metadata": {
    "execution": {
     "iopub.execute_input": "2021-06-11T08:20:17.917329Z",
     "iopub.status.busy": "2021-06-11T08:20:17.915055Z",
     "iopub.status.idle": "2021-06-11T08:20:17.946962Z",
     "shell.execute_reply": "2021-06-11T08:20:17.946195Z",
     "shell.execute_reply.started": "2021-06-11T08:13:50.599311Z"
    },
    "papermill": {
     "duration": 0.078306,
     "end_time": "2021-06-11T08:20:17.947091",
     "exception": false,
     "start_time": "2021-06-11T08:20:17.868785",
     "status": "completed"
    },
    "tags": []
   },
   "outputs": [],
   "source": [
    "# filters : Integer, the dimensionality of the output space (i.e. the number of output filters in the convolution).\n",
    "# kernel_size : An integer or tuple/list of 2 integers, specifying the height and width of the 2D convolution window, \n",
    "# can be a single integer to specify the same value for all spatial dimensions.\n",
    "# padding : one of \"valid\" or \"same\" (case-insensitive). \"valid\" means no padding. \"same\" results in padding with zeros evenly to the left/right or up/down of the input such that output has the same height/width dimension as the input.\n",
    "cnn.add(tf.keras.layers.Conv2D(filters = 32, kernel_size = 3, padding='same' ,activation = 'relu', input_shape = [64, 64, 3]))"
   ]
  },
  {
   "cell_type": "code",
   "execution_count": 19,
   "id": "caroline-indiana",
   "metadata": {
    "execution": {
     "iopub.execute_input": "2021-06-11T08:20:18.025361Z",
     "iopub.status.busy": "2021-06-11T08:20:18.024234Z",
     "iopub.status.idle": "2021-06-11T08:20:18.030210Z",
     "shell.execute_reply": "2021-06-11T08:20:18.029634Z",
     "shell.execute_reply.started": "2021-06-11T08:13:59.423775Z"
    },
    "papermill": {
     "duration": 0.046858,
     "end_time": "2021-06-11T08:20:18.030328",
     "exception": false,
     "start_time": "2021-06-11T08:20:17.983470",
     "status": "completed"
    },
    "tags": []
   },
   "outputs": [],
   "source": [
    "# pool_size : integer or tuple of 2 integers, window size over which to take the maximum. (2, 2) will take the max value over a 2x2 pooling window. If only one integer is specified, the same window length will be used for both dimensions.\n",
    "# strides: Integer, tuple of 2 integers, or None. Strides values. Specifies how far the pooling window moves for each pooling step. If None, it will default to pool_size.\n",
    "cnn.add(tf.keras.layers.MaxPooling2D(pool_size = 2, strides = 2))"
   ]
  },
  {
   "cell_type": "markdown",
   "id": "quantitative-threshold",
   "metadata": {
    "papermill": {
     "duration": 0.035417,
     "end_time": "2021-06-11T08:20:18.100906",
     "exception": false,
     "start_time": "2021-06-11T08:20:18.065489",
     "status": "completed"
    },
    "tags": []
   },
   "source": [
    "### Adding a second convolution layer"
   ]
  },
  {
   "cell_type": "code",
   "execution_count": 20,
   "id": "divided-disaster",
   "metadata": {
    "execution": {
     "iopub.execute_input": "2021-06-11T08:20:18.178863Z",
     "iopub.status.busy": "2021-06-11T08:20:18.178319Z",
     "iopub.status.idle": "2021-06-11T08:20:18.190943Z",
     "shell.execute_reply": "2021-06-11T08:20:18.190521Z",
     "shell.execute_reply.started": "2021-06-11T08:14:03.527116Z"
    },
    "papermill": {
     "duration": 0.05472,
     "end_time": "2021-06-11T08:20:18.191066",
     "exception": false,
     "start_time": "2021-06-11T08:20:18.136346",
     "status": "completed"
    },
    "tags": []
   },
   "outputs": [],
   "source": [
    "cnn.add(tf.keras.layers.Conv2D(filters = 32, kernel_size = 3, activation = 'relu', padding=\"same\"))\n",
    "cnn.add(tf.keras.layers.MaxPool2D(pool_size = 2, strides = 2))"
   ]
  },
  {
   "cell_type": "markdown",
   "id": "introductory-macro",
   "metadata": {
    "papermill": {
     "duration": 0.035205,
     "end_time": "2021-06-11T08:20:18.261672",
     "exception": false,
     "start_time": "2021-06-11T08:20:18.226467",
     "status": "completed"
    },
    "tags": []
   },
   "source": [
    "## Step 3 - Flattening"
   ]
  },
  {
   "cell_type": "code",
   "execution_count": 21,
   "id": "acceptable-eclipse",
   "metadata": {
    "execution": {
     "iopub.execute_input": "2021-06-11T08:20:18.338202Z",
     "iopub.status.busy": "2021-06-11T08:20:18.337376Z",
     "iopub.status.idle": "2021-06-11T08:20:18.343006Z",
     "shell.execute_reply": "2021-06-11T08:20:18.342588Z",
     "shell.execute_reply.started": "2021-06-11T08:14:06.881012Z"
    },
    "papermill": {
     "duration": 0.045969,
     "end_time": "2021-06-11T08:20:18.343126",
     "exception": false,
     "start_time": "2021-06-11T08:20:18.297157",
     "status": "completed"
    },
    "tags": []
   },
   "outputs": [],
   "source": [
    "# Reshaping the output of the previous layer into a 1-d matrix ([2,6,89,2,.6,....])\n",
    "cnn.add(tf.keras.layers.Flatten())"
   ]
  },
  {
   "cell_type": "markdown",
   "id": "environmental-bowling",
   "metadata": {
    "papermill": {
     "duration": 0.035749,
     "end_time": "2021-06-11T08:20:18.414150",
     "exception": false,
     "start_time": "2021-06-11T08:20:18.378401",
     "status": "completed"
    },
    "tags": []
   },
   "source": [
    "## Step 4 - Full Connection"
   ]
  },
  {
   "cell_type": "code",
   "execution_count": 22,
   "id": "printable-title",
   "metadata": {
    "execution": {
     "iopub.execute_input": "2021-06-11T08:20:18.491282Z",
     "iopub.status.busy": "2021-06-11T08:20:18.490533Z",
     "iopub.status.idle": "2021-06-11T08:20:18.499880Z",
     "shell.execute_reply": "2021-06-11T08:20:18.499356Z",
     "shell.execute_reply.started": "2021-06-11T08:14:12.360033Z"
    },
    "papermill": {
     "duration": 0.050522,
     "end_time": "2021-06-11T08:20:18.499992",
     "exception": false,
     "start_time": "2021-06-11T08:20:18.449470",
     "status": "completed"
    },
    "tags": []
   },
   "outputs": [],
   "source": [
    "# Dense layer with 128 units and relu activation function\n",
    "cnn.add(tf.keras.layers.Dense(units = 128, activation = 'relu'))"
   ]
  },
  {
   "cell_type": "markdown",
   "id": "increased-retrieval",
   "metadata": {
    "papermill": {
     "duration": 0.035076,
     "end_time": "2021-06-11T08:20:18.570659",
     "exception": false,
     "start_time": "2021-06-11T08:20:18.535583",
     "status": "completed"
    },
    "tags": []
   },
   "source": [
    "## Step 5 - Output Layer"
   ]
  },
  {
   "cell_type": "code",
   "execution_count": 23,
   "id": "resident-blowing",
   "metadata": {
    "execution": {
     "iopub.execute_input": "2021-06-11T08:20:18.647020Z",
     "iopub.status.busy": "2021-06-11T08:20:18.644797Z",
     "iopub.status.idle": "2021-06-11T08:20:18.656184Z",
     "shell.execute_reply": "2021-06-11T08:20:18.655701Z",
     "shell.execute_reply.started": "2021-06-11T08:14:17.162216Z"
    },
    "papermill": {
     "duration": 0.050403,
     "end_time": "2021-06-11T08:20:18.656293",
     "exception": false,
     "start_time": "2021-06-11T08:20:18.605890",
     "status": "completed"
    },
    "tags": []
   },
   "outputs": [],
   "source": [
    "# Out layer with 120 units and a softmax activation (total % of the predictions for an observation = 1)\n",
    "cnn.add(tf.keras.layers.Dense(units = 120, activation = 'softmax'))"
   ]
  },
  {
   "cell_type": "markdown",
   "id": "japanese-clause",
   "metadata": {
    "papermill": {
     "duration": 0.03516,
     "end_time": "2021-06-11T08:20:18.727443",
     "exception": false,
     "start_time": "2021-06-11T08:20:18.692283",
     "status": "completed"
    },
    "tags": []
   },
   "source": [
    "# Part 3 - Training the CNN"
   ]
  },
  {
   "cell_type": "markdown",
   "id": "empty-diamond",
   "metadata": {
    "papermill": {
     "duration": 0.035299,
     "end_time": "2021-06-11T08:20:18.798063",
     "exception": false,
     "start_time": "2021-06-11T08:20:18.762764",
     "status": "completed"
    },
    "tags": []
   },
   "source": [
    "### Compiling the CNN"
   ]
  },
  {
   "cell_type": "code",
   "execution_count": 24,
   "id": "brave-soundtrack",
   "metadata": {
    "execution": {
     "iopub.execute_input": "2021-06-11T08:20:18.879568Z",
     "iopub.status.busy": "2021-06-11T08:20:18.879042Z",
     "iopub.status.idle": "2021-06-11T08:20:18.886104Z",
     "shell.execute_reply": "2021-06-11T08:20:18.886464Z",
     "shell.execute_reply.started": "2021-06-11T08:14:20.035896Z"
    },
    "papermill": {
     "duration": 0.053221,
     "end_time": "2021-06-11T08:20:18.886594",
     "exception": false,
     "start_time": "2021-06-11T08:20:18.833373",
     "status": "completed"
    },
    "tags": []
   },
   "outputs": [],
   "source": [
    "# Compiling the model\n",
    "cnn.compile(optimizer = 'adam', loss = 'categorical_crossentropy', metrics = ['accuracy'])"
   ]
  },
  {
   "cell_type": "code",
   "execution_count": 25,
   "id": "complete-ratio",
   "metadata": {
    "execution": {
     "iopub.execute_input": "2021-06-11T08:20:18.974007Z",
     "iopub.status.busy": "2021-06-11T08:20:18.960960Z",
     "iopub.status.idle": "2021-06-11T08:20:26.305281Z",
     "shell.execute_reply": "2021-06-11T08:20:26.304730Z",
     "shell.execute_reply.started": "2021-06-11T08:14:25.457811Z"
    },
    "papermill": {
     "duration": 7.383553,
     "end_time": "2021-06-11T08:20:26.305404",
     "exception": false,
     "start_time": "2021-06-11T08:20:18.921851",
     "status": "completed"
    },
    "tags": []
   },
   "outputs": [
    {
     "name": "stdout",
     "output_type": "stream",
     "text": [
      "Collecting visualkeras\r\n",
      "  Downloading visualkeras-0.0.2-py3-none-any.whl (12 kB)\r\n",
      "Collecting aggdraw>=1.3.11\r\n",
      "  Downloading aggdraw-1.3.12-cp37-cp37m-manylinux2010_x86_64.whl (795 kB)\r\n",
      "\u001b[K     |████████████████████████████████| 795 kB 4.2 MB/s \r\n",
      "\u001b[?25hRequirement already satisfied: pillow>=6.2.0 in /opt/conda/lib/python3.7/site-packages (from visualkeras) (7.2.0)\r\n",
      "Requirement already satisfied: numpy>=1.18.1 in /opt/conda/lib/python3.7/site-packages (from visualkeras) (1.19.5)\r\n",
      "Installing collected packages: aggdraw, visualkeras\r\n",
      "Successfully installed aggdraw-1.3.12 visualkeras-0.0.2\r\n"
     ]
    }
   ],
   "source": [
    "!pip install visualkeras"
   ]
  },
  {
   "cell_type": "code",
   "execution_count": 26,
   "id": "second-disposal",
   "metadata": {
    "execution": {
     "iopub.execute_input": "2021-06-11T08:20:26.387473Z",
     "iopub.status.busy": "2021-06-11T08:20:26.386703Z",
     "iopub.status.idle": "2021-06-11T08:20:26.542548Z",
     "shell.execute_reply": "2021-06-11T08:20:26.542126Z",
     "shell.execute_reply.started": "2021-06-11T08:14:33.095177Z"
    },
    "papermill": {
     "duration": 0.19855,
     "end_time": "2021-06-11T08:20:26.542667",
     "exception": false,
     "start_time": "2021-06-11T08:20:26.344117",
     "status": "completed"
    },
    "tags": []
   },
   "outputs": [
    {
     "data": {
      "image/png": "[encoded data removed]",
      "text/plain": [
       "<PIL.Image.Image image mode=RGBA size=646x342 at 0x7FABA86A29D0>"
      ]
     },
     "execution_count": 26,
     "metadata": {},
     "output_type": "execute_result"
    }
   ],
   "source": [
    "import visualkeras\n",
    "\n",
    "\n",
    "visualkeras.layered_view(cnn).show() # display using your system viewer\n",
    "visualkeras.layered_view(cnn, to_file='output.png').show() # write and show\n",
    "# Print out the neural network shemas\n",
    "visualkeras.layered_view(cnn)"
   ]
  },
  {
   "cell_type": "markdown",
   "id": "painted-starter",
   "metadata": {
    "papermill": {
     "duration": 0.048241,
     "end_time": "2021-06-11T08:20:26.636949",
     "exception": false,
     "start_time": "2021-06-11T08:20:26.588708",
     "status": "completed"
    },
    "tags": []
   },
   "source": [
    "### Training the CNN on the Training set and evaluating it on the Test set"
   ]
  },
  {
   "cell_type": "code",
   "execution_count": 27,
   "id": "leading-monthly",
   "metadata": {
    "execution": {
     "iopub.execute_input": "2021-06-11T08:20:26.734006Z",
     "iopub.status.busy": "2021-06-11T08:20:26.733430Z",
     "iopub.status.idle": "2021-06-11T08:21:27.310499Z",
     "shell.execute_reply": "2021-06-11T08:21:27.311154Z",
     "shell.execute_reply.started": "2021-06-11T08:14:47.118892Z"
    },
    "papermill": {
     "duration": 60.630017,
     "end_time": "2021-06-11T08:21:27.311353",
     "exception": false,
     "start_time": "2021-06-11T08:20:26.681336",
     "status": "completed"
    },
    "tags": []
   },
   "outputs": [
    {
     "name": "stdout",
     "output_type": "stream",
     "text": [
      "Epoch 1/25\n",
      "256/256 [==============================] - 7s 11ms/step - loss: 11.1345 - accuracy: 0.0073 - val_loss: 4.7873 - val_accuracy: 0.0152\n",
      "Epoch 2/25\n",
      "256/256 [==============================] - 2s 9ms/step - loss: 4.7113 - accuracy: 0.0300 - val_loss: 4.8020 - val_accuracy: 0.0161\n",
      "Epoch 3/25\n",
      "256/256 [==============================] - 2s 9ms/step - loss: 4.2659 - accuracy: 0.1039 - val_loss: 5.1253 - val_accuracy: 0.0215\n",
      "Epoch 4/25\n",
      "256/256 [==============================] - 2s 9ms/step - loss: 3.2414 - accuracy: 0.3041 - val_loss: 5.7447 - val_accuracy: 0.0215\n",
      "Epoch 5/25\n",
      "256/256 [==============================] - 2s 9ms/step - loss: 2.2863 - accuracy: 0.5059 - val_loss: 7.2256 - val_accuracy: 0.0240\n",
      "Epoch 6/25\n",
      "256/256 [==============================] - 2s 8ms/step - loss: 1.6321 - accuracy: 0.6422 - val_loss: 9.6730 - val_accuracy: 0.0264\n",
      "Epoch 7/25\n",
      "256/256 [==============================] - 2s 9ms/step - loss: 1.2248 - accuracy: 0.7356 - val_loss: 11.2001 - val_accuracy: 0.0191\n",
      "Epoch 8/25\n",
      "256/256 [==============================] - 2s 9ms/step - loss: 0.9982 - accuracy: 0.7813 - val_loss: 12.3190 - val_accuracy: 0.0210\n",
      "Epoch 9/25\n",
      "256/256 [==============================] - 2s 9ms/step - loss: 0.8091 - accuracy: 0.8257 - val_loss: 14.8460 - val_accuracy: 0.0205\n",
      "Epoch 10/25\n",
      "256/256 [==============================] - 2s 9ms/step - loss: 0.6333 - accuracy: 0.8580 - val_loss: 16.0739 - val_accuracy: 0.0264\n",
      "Epoch 11/25\n",
      "256/256 [==============================] - 2s 9ms/step - loss: 0.5824 - accuracy: 0.8719 - val_loss: 16.1389 - val_accuracy: 0.0200\n",
      "Epoch 12/25\n",
      "256/256 [==============================] - 2s 9ms/step - loss: 0.5737 - accuracy: 0.8711 - val_loss: 18.5099 - val_accuracy: 0.0205\n",
      "Epoch 13/25\n",
      "256/256 [==============================] - 2s 9ms/step - loss: 0.4912 - accuracy: 0.8904 - val_loss: 19.3782 - val_accuracy: 0.0225\n",
      "Epoch 14/25\n",
      "256/256 [==============================] - 2s 9ms/step - loss: 0.4855 - accuracy: 0.8943 - val_loss: 22.3457 - val_accuracy: 0.0215\n",
      "Epoch 15/25\n",
      "256/256 [==============================] - 2s 9ms/step - loss: 0.3708 - accuracy: 0.9176 - val_loss: 21.7817 - val_accuracy: 0.0205\n",
      "Epoch 16/25\n",
      "256/256 [==============================] - 2s 9ms/step - loss: 0.3002 - accuracy: 0.9297 - val_loss: 23.8007 - val_accuracy: 0.0205\n",
      "Epoch 17/25\n",
      "256/256 [==============================] - 2s 9ms/step - loss: 0.3525 - accuracy: 0.9171 - val_loss: 25.1199 - val_accuracy: 0.0196\n",
      "Epoch 18/25\n",
      "256/256 [==============================] - 2s 9ms/step - loss: 0.3279 - accuracy: 0.9273 - val_loss: 26.9292 - val_accuracy: 0.0215\n",
      "Epoch 19/25\n",
      "256/256 [==============================] - 2s 8ms/step - loss: 0.2522 - accuracy: 0.9425 - val_loss: 27.1528 - val_accuracy: 0.0220\n",
      "Epoch 20/25\n",
      "256/256 [==============================] - 2s 8ms/step - loss: 0.2360 - accuracy: 0.9489 - val_loss: 29.6007 - val_accuracy: 0.0205\n",
      "Epoch 21/25\n",
      "256/256 [==============================] - 2s 8ms/step - loss: 0.2137 - accuracy: 0.9519 - val_loss: 29.1593 - val_accuracy: 0.0142\n",
      "Epoch 22/25\n",
      "256/256 [==============================] - 2s 9ms/step - loss: 0.2045 - accuracy: 0.9545 - val_loss: 31.1131 - val_accuracy: 0.0166\n",
      "Epoch 23/25\n",
      "256/256 [==============================] - 2s 8ms/step - loss: 0.2899 - accuracy: 0.9358 - val_loss: 31.8990 - val_accuracy: 0.0166\n",
      "Epoch 24/25\n",
      "256/256 [==============================] - 2s 9ms/step - loss: 0.3555 - accuracy: 0.9277 - val_loss: 29.9435 - val_accuracy: 0.0186\n",
      "Epoch 25/25\n",
      "256/256 [==============================] - 2s 9ms/step - loss: 0.2617 - accuracy: 0.9405 - val_loss: 33.3945 - val_accuracy: 0.0200\n"
     ]
    }
   ],
   "source": [
    "# fits the model on batches with real-time data augmentation:\n",
    "history = cnn.fit(X_train, y_train,\n",
    "        validation_data = (X_test, y_test),\n",
    "        batch_size = 32,\n",
    "        epochs = 25,\n",
    "        verbose = 1\n",
    ")"
   ]
  },
  {
   "cell_type": "code",
   "execution_count": 28,
   "id": "norman-booking",
   "metadata": {
    "execution": {
     "iopub.execute_input": "2021-06-11T08:21:27.893049Z",
     "iopub.status.busy": "2021-06-11T08:21:27.870017Z",
     "iopub.status.idle": "2021-06-11T08:21:28.074999Z",
     "shell.execute_reply": "2021-06-11T08:21:28.074125Z",
     "shell.execute_reply.started": "2021-06-11T08:16:36.658054Z"
    },
    "papermill": {
     "duration": 0.512403,
     "end_time": "2021-06-11T08:21:28.075135",
     "exception": false,
     "start_time": "2021-06-11T08:21:27.562732",
     "status": "completed"
    },
    "tags": []
   },
   "outputs": [
    {
     "data": {
      "image/png": "[encoded data removed]",
      "text/plain": [
       "<Figure size 864x288 with 2 Axes>"
      ]
     },
     "metadata": {
      "needs_background": "light"
     },
     "output_type": "display_data"
    }
   ],
   "source": [
    "# Plot the learning curve\n",
    "fig , ax = plt.subplots(1,2)\n",
    "train_acc = history.history['accuracy']\n",
    "train_loss = history.history['loss']\n",
    "fig.set_size_inches(12,4)\n",
    "\n",
    "ax[0].plot(history.history['accuracy'])\n",
    "ax[0].plot(history.history['val_accuracy'])\n",
    "ax[0].set_title('Training Accuracy vs Validation Accuracy')\n",
    "ax[0].set_ylabel('Accuracy')\n",
    "ax[0].set_xlabel('Epoch')\n",
    "ax[0].legend(['Train', 'Validation'], loc='upper left')\n",
    "\n",
    "ax[1].plot(history.history['loss'])\n",
    "ax[1].plot(history.history['val_loss'])\n",
    "ax[1].set_title('Training Loss vs Validation Loss')\n",
    "ax[1].set_ylabel('Loss')\n",
    "ax[1].set_xlabel('Epoch')\n",
    "ax[1].legend(['Train', 'Validation'], loc='upper left')\n",
    "\n",
    "plt.show()\n",
    "\n"
   ]
  },
  {
   "cell_type": "markdown",
   "id": "minor-richmond",
   "metadata": {
    "papermill": {
     "duration": 0.251426,
     "end_time": "2021-06-11T08:21:28.580402",
     "exception": false,
     "start_time": "2021-06-11T08:21:28.328976",
     "status": "completed"
    },
    "tags": []
   },
   "source": [
    "# Part 4 - Making a prediction"
   ]
  },
  {
   "cell_type": "code",
   "execution_count": 29,
   "id": "mental-banner",
   "metadata": {
    "execution": {
     "iopub.execute_input": "2021-06-11T08:21:29.092491Z",
     "iopub.status.busy": "2021-06-11T08:21:29.091827Z",
     "iopub.status.idle": "2021-06-11T08:21:29.224025Z",
     "shell.execute_reply": "2021-06-11T08:21:29.224825Z",
     "shell.execute_reply.started": "2021-06-11T08:16:45.893545Z"
    },
    "papermill": {
     "duration": 0.391881,
     "end_time": "2021-06-11T08:21:29.225021",
     "exception": false,
     "start_time": "2021-06-11T08:21:28.833140",
     "status": "completed"
    },
    "tags": []
   },
   "outputs": [
    {
     "name": "stdout",
     "output_type": "stream",
     "text": [
      "0.99549365\n"
     ]
    }
   ],
   "source": [
    "from keras.preprocessing import image\n",
    "test_image = image.load_img(IMG_TEST_PATH + '000621fb3cbb32d8935728e48679680e.jpg', target_size = (64,64))\n",
    "test_image = image.img_to_array(test_image)\n",
    "test_image = np.expand_dims(test_image, axis = 0)\n",
    "result = cnn.predict(test_image)\n",
    "print(result.max())"
   ]
  },
  {
   "cell_type": "code",
   "execution_count": 30,
   "id": "tight-hardware",
   "metadata": {
    "execution": {
     "iopub.execute_input": "2021-06-11T08:21:29.742377Z",
     "iopub.status.busy": "2021-06-11T08:21:29.741553Z",
     "iopub.status.idle": "2021-06-11T08:21:30.048801Z",
     "shell.execute_reply": "2021-06-11T08:21:30.048277Z",
     "shell.execute_reply.started": "2021-06-11T08:16:49.034327Z"
    },
    "papermill": {
     "duration": 0.570434,
     "end_time": "2021-06-11T08:21:30.048936",
     "exception": false,
     "start_time": "2021-06-11T08:21:29.478502",
     "status": "completed"
    },
    "tags": []
   },
   "outputs": [],
   "source": [
    "# Make predictions on the testing set\n",
    "y_pred = cnn.predict(X_test)"
   ]
  },
  {
   "cell_type": "code",
   "execution_count": 31,
   "id": "likely-capacity",
   "metadata": {
    "execution": {
     "iopub.execute_input": "2021-06-11T08:21:30.556585Z",
     "iopub.status.busy": "2021-06-11T08:21:30.556052Z",
     "iopub.status.idle": "2021-06-11T08:21:30.561816Z",
     "shell.execute_reply": "2021-06-11T08:21:30.561405Z",
     "shell.execute_reply.started": "2021-06-11T08:16:51.668221Z"
    },
    "papermill": {
     "duration": 0.261244,
     "end_time": "2021-06-11T08:21:30.561927",
     "exception": false,
     "start_time": "2021-06-11T08:21:30.300683",
     "status": "completed"
    },
    "tags": []
   },
   "outputs": [
    {
     "data": {
      "text/plain": [
       "(2045, 120)"
      ]
     },
     "execution_count": 31,
     "metadata": {},
     "output_type": "execute_result"
    }
   ],
   "source": [
    "y_pred.shape"
   ]
  },
  {
   "cell_type": "code",
   "execution_count": 32,
   "id": "wanted-question",
   "metadata": {
    "execution": {
     "iopub.execute_input": "2021-06-11T08:21:31.318827Z",
     "iopub.status.busy": "2021-06-11T08:21:31.317717Z",
     "iopub.status.idle": "2021-06-11T08:21:33.600673Z",
     "shell.execute_reply": "2021-06-11T08:21:33.601281Z",
     "shell.execute_reply.started": "2021-06-11T08:17:44.921142Z"
    },
    "papermill": {
     "duration": 2.725834,
     "end_time": "2021-06-11T08:21:33.601468",
     "exception": false,
     "start_time": "2021-06-11T08:21:30.875634",
     "status": "completed"
    },
    "tags": []
   },
   "outputs": [
    {
     "name": "stdout",
     "output_type": "stream",
     "text": [
      "256/256 [==============================] - 2s 6ms/step - loss: 0.1730 - accuracy: 0.9583\n",
      "64/64 [==============================] - 0s 6ms/step - loss: 33.3945 - accuracy: 0.0200\n",
      "final train accuracy = 95.83 , validation accuracy = 2.00\n"
     ]
    }
   ],
   "source": [
    "train_loss, train_acc = cnn.evaluate(X_train, y_train)\n",
    "test_loss, test_acc   = cnn.evaluate(X_test, y_test)\n",
    "print(\"final train accuracy = {:.2f} , validation accuracy = {:.2f}\".format(train_acc*100, test_acc*100))"
   ]
  },
  {
   "cell_type": "code",
   "execution_count": 33,
   "id": "indirect-petersburg",
   "metadata": {
    "execution": {
     "iopub.execute_input": "2021-06-11T08:21:34.174943Z",
     "iopub.status.busy": "2021-06-11T08:21:34.174411Z",
     "iopub.status.idle": "2021-06-11T08:21:40.412449Z",
     "shell.execute_reply": "2021-06-11T08:21:40.412027Z",
     "shell.execute_reply.started": "2021-06-11T08:18:34.284289Z"
    },
    "papermill": {
     "duration": 6.546273,
     "end_time": "2021-06-11T08:21:40.412571",
     "exception": false,
     "start_time": "2021-06-11T08:21:33.866298",
     "status": "completed"
    },
    "tags": []
   },
   "outputs": [
    {
     "name": "stdout",
     "output_type": "stream",
     "text": [
      "Found 10357 images belonging to 1 classes.\n"
     ]
    }
   ],
   "source": [
    "test_datagen = ImageDataGenerator ( \n",
    "    rescale=1/255. # Normalization\n",
    ")\n",
    "\n",
    "test_set = test_datagen.flow_from_directory (\n",
    "    '/kaggle/input/dog-breed-identification',\n",
    "    target_size = (64,64),\n",
    "    batch_size = 32,\n",
    "    classes=['test']\n",
    ")"
   ]
  },
  {
   "cell_type": "markdown",
   "id": "driving-priority",
   "metadata": {
    "papermill": {
     "duration": 0.268385,
     "end_time": "2021-06-11T08:21:40.945112",
     "exception": false,
     "start_time": "2021-06-11T08:21:40.676727",
     "status": "completed"
    },
    "tags": []
   },
   "source": [
    "# Submission on kaggle"
   ]
  },
  {
   "cell_type": "code",
   "execution_count": 34,
   "id": "stainless-adobe",
   "metadata": {
    "execution": {
     "iopub.execute_input": "2021-06-11T08:21:41.492966Z",
     "iopub.status.busy": "2021-06-11T08:21:41.482805Z",
     "iopub.status.idle": "2021-06-11T08:21:41.514215Z",
     "shell.execute_reply": "2021-06-11T08:21:41.513797Z"
    },
    "papermill": {
     "duration": 0.305477,
     "end_time": "2021-06-11T08:21:41.514329",
     "exception": false,
     "start_time": "2021-06-11T08:21:41.208852",
     "status": "completed"
    },
    "tags": []
   },
   "outputs": [],
   "source": [
    "import re\n",
    "file_list = test_set.filenames\n",
    "id_list = []\n",
    "for name in file_list:\n",
    "    m = re.sub('test/', '', name)\n",
    "    m = re.sub('.jpg', '', m)\n",
    "    id_list.append(m)"
   ]
  },
  {
   "cell_type": "code",
   "execution_count": 35,
   "id": "front-miniature",
   "metadata": {
    "execution": {
     "iopub.execute_input": "2021-06-11T08:21:42.265047Z",
     "iopub.status.busy": "2021-06-11T08:21:42.264452Z",
     "iopub.status.idle": "2021-06-11T08:21:42.735389Z",
     "shell.execute_reply": "2021-06-11T08:21:42.735935Z"
    },
    "papermill": {
     "duration": 0.932859,
     "end_time": "2021-06-11T08:21:42.736113",
     "exception": false,
     "start_time": "2021-06-11T08:21:41.803254",
     "status": "completed"
    },
    "tags": []
   },
   "outputs": [
    {
     "ename": "ValueError",
     "evalue": "Length of values (2045) does not match length of index (10357)",
     "output_type": "error",
     "traceback": [
      "\u001b[0;31m---------------------------------------------------------------------------\u001b[0m",
      "\u001b[0;31mValueError\u001b[0m                                Traceback (most recent call last)",
      "\u001b[0;32m<ipython-input-35-00ccea1a87a0>\u001b[0m in \u001b[0;36m<module>\u001b[0;34m\u001b[0m\n\u001b[1;32m      1\u001b[0m \u001b[0mdf_submission\u001b[0m \u001b[0;34m=\u001b[0m \u001b[0mpd\u001b[0m\u001b[0;34m.\u001b[0m\u001b[0mread_csv\u001b[0m\u001b[0;34m(\u001b[0m\u001b[0;34m'/kaggle/input/dog-breed-identification/sample_submission.csv'\u001b[0m\u001b[0;34m)\u001b[0m\u001b[0;34m\u001b[0m\u001b[0;34m\u001b[0m\u001b[0m\n\u001b[1;32m      2\u001b[0m \u001b[0mdf_submission\u001b[0m\u001b[0;34m[\u001b[0m\u001b[0;34m'id'\u001b[0m\u001b[0;34m]\u001b[0m \u001b[0;34m=\u001b[0m \u001b[0mid_list\u001b[0m\u001b[0;34m\u001b[0m\u001b[0;34m\u001b[0m\u001b[0m\n\u001b[0;32m----> 3\u001b[0;31m \u001b[0mdf_submission\u001b[0m\u001b[0;34m.\u001b[0m\u001b[0miloc\u001b[0m\u001b[0;34m[\u001b[0m\u001b[0;34m:\u001b[0m\u001b[0;34m,\u001b[0m\u001b[0;36m1\u001b[0m\u001b[0;34m:\u001b[0m\u001b[0;34m]\u001b[0m \u001b[0;34m=\u001b[0m \u001b[0my_pred\u001b[0m\u001b[0;34m\u001b[0m\u001b[0;34m\u001b[0m\u001b[0m\n\u001b[0m\u001b[1;32m      4\u001b[0m \u001b[0mdf_submission\u001b[0m\u001b[0;34m.\u001b[0m\u001b[0mhead\u001b[0m\u001b[0;34m(\u001b[0m\u001b[0;34m)\u001b[0m\u001b[0;34m\u001b[0m\u001b[0;34m\u001b[0m\u001b[0m\n",
      "\u001b[0;32m/opt/conda/lib/python3.7/site-packages/pandas/core/indexing.py\u001b[0m in \u001b[0;36m__setitem__\u001b[0;34m(self, key, value)\u001b[0m\n\u001b[1;32m    668\u001b[0m \u001b[0;34m\u001b[0m\u001b[0m\n\u001b[1;32m    669\u001b[0m         \u001b[0miloc\u001b[0m \u001b[0;34m=\u001b[0m \u001b[0mself\u001b[0m \u001b[0;32mif\u001b[0m \u001b[0mself\u001b[0m\u001b[0;34m.\u001b[0m\u001b[0mname\u001b[0m \u001b[0;34m==\u001b[0m \u001b[0;34m\"iloc\"\u001b[0m \u001b[0;32melse\u001b[0m \u001b[0mself\u001b[0m\u001b[0;34m.\u001b[0m\u001b[0mobj\u001b[0m\u001b[0;34m.\u001b[0m\u001b[0miloc\u001b[0m\u001b[0;34m\u001b[0m\u001b[0;34m\u001b[0m\u001b[0m\n\u001b[0;32m--> 670\u001b[0;31m         \u001b[0miloc\u001b[0m\u001b[0;34m.\u001b[0m\u001b[0m_setitem_with_indexer\u001b[0m\u001b[0;34m(\u001b[0m\u001b[0mindexer\u001b[0m\u001b[0;34m,\u001b[0m \u001b[0mvalue\u001b[0m\u001b[0;34m)\u001b[0m\u001b[0;34m\u001b[0m\u001b[0;34m\u001b[0m\u001b[0m\n\u001b[0m\u001b[1;32m    671\u001b[0m \u001b[0;34m\u001b[0m\u001b[0m\n\u001b[1;32m    672\u001b[0m     \u001b[0;32mdef\u001b[0m \u001b[0m_validate_key\u001b[0m\u001b[0;34m(\u001b[0m\u001b[0mself\u001b[0m\u001b[0;34m,\u001b[0m \u001b[0mkey\u001b[0m\u001b[0;34m,\u001b[0m \u001b[0maxis\u001b[0m\u001b[0;34m:\u001b[0m \u001b[0mint\u001b[0m\u001b[0;34m)\u001b[0m\u001b[0;34m:\u001b[0m\u001b[0;34m\u001b[0m\u001b[0;34m\u001b[0m\u001b[0m\n",
      "\u001b[0;32m/opt/conda/lib/python3.7/site-packages/pandas/core/indexing.py\u001b[0m in \u001b[0;36m_setitem_with_indexer\u001b[0;34m(self, indexer, value)\u001b[0m\n\u001b[1;32m   1732\u001b[0m                     \u001b[0;32mfor\u001b[0m \u001b[0mi\u001b[0m\u001b[0;34m,\u001b[0m \u001b[0mloc\u001b[0m \u001b[0;32min\u001b[0m \u001b[0menumerate\u001b[0m\u001b[0;34m(\u001b[0m\u001b[0milocs\u001b[0m\u001b[0;34m)\u001b[0m\u001b[0;34m:\u001b[0m\u001b[0;34m\u001b[0m\u001b[0;34m\u001b[0m\u001b[0m\n\u001b[1;32m   1733\u001b[0m                         \u001b[0;31m# setting with a list, re-coerces\u001b[0m\u001b[0;34m\u001b[0m\u001b[0;34m\u001b[0m\u001b[0;34m\u001b[0m\u001b[0m\n\u001b[0;32m-> 1734\u001b[0;31m                         \u001b[0misetter\u001b[0m\u001b[0;34m(\u001b[0m\u001b[0mloc\u001b[0m\u001b[0;34m,\u001b[0m \u001b[0mvalue\u001b[0m\u001b[0;34m[\u001b[0m\u001b[0;34m:\u001b[0m\u001b[0;34m,\u001b[0m \u001b[0mi\u001b[0m\u001b[0;34m]\u001b[0m\u001b[0;34m.\u001b[0m\u001b[0mtolist\u001b[0m\u001b[0;34m(\u001b[0m\u001b[0;34m)\u001b[0m\u001b[0;34m)\u001b[0m\u001b[0;34m\u001b[0m\u001b[0;34m\u001b[0m\u001b[0m\n\u001b[0m\u001b[1;32m   1735\u001b[0m \u001b[0;34m\u001b[0m\u001b[0m\n\u001b[1;32m   1736\u001b[0m                 elif (\n",
      "\u001b[0;32m/opt/conda/lib/python3.7/site-packages/pandas/core/indexing.py\u001b[0m in \u001b[0;36misetter\u001b[0;34m(loc, v)\u001b[0m\n\u001b[1;32m   1691\u001b[0m \u001b[0;34m\u001b[0m\u001b[0m\n\u001b[1;32m   1692\u001b[0m                 \u001b[0;31m# reset the sliced object if unique\u001b[0m\u001b[0;34m\u001b[0m\u001b[0;34m\u001b[0m\u001b[0;34m\u001b[0m\u001b[0m\n\u001b[0;32m-> 1693\u001b[0;31m                 \u001b[0mself\u001b[0m\u001b[0;34m.\u001b[0m\u001b[0mobj\u001b[0m\u001b[0;34m.\u001b[0m\u001b[0m_iset_item\u001b[0m\u001b[0;34m(\u001b[0m\u001b[0mloc\u001b[0m\u001b[0;34m,\u001b[0m \u001b[0mser\u001b[0m\u001b[0;34m)\u001b[0m\u001b[0;34m\u001b[0m\u001b[0;34m\u001b[0m\u001b[0m\n\u001b[0m\u001b[1;32m   1694\u001b[0m \u001b[0;34m\u001b[0m\u001b[0m\n\u001b[1;32m   1695\u001b[0m             \u001b[0;31m# we need an iterable, with a ndim of at least 1\u001b[0m\u001b[0;34m\u001b[0m\u001b[0;34m\u001b[0m\u001b[0;34m\u001b[0m\u001b[0m\n",
      "\u001b[0;32m/opt/conda/lib/python3.7/site-packages/pandas/core/frame.py\u001b[0m in \u001b[0;36m_iset_item\u001b[0;34m(self, loc, value)\u001b[0m\n\u001b[1;32m   3098\u001b[0m         \u001b[0;31m# technically _sanitize_column expects a label, not a position,\u001b[0m\u001b[0;34m\u001b[0m\u001b[0;34m\u001b[0m\u001b[0;34m\u001b[0m\u001b[0m\n\u001b[1;32m   3099\u001b[0m         \u001b[0;31m#  but the behavior is the same as long as we pass broadcast=False\u001b[0m\u001b[0;34m\u001b[0m\u001b[0;34m\u001b[0m\u001b[0;34m\u001b[0m\u001b[0m\n\u001b[0;32m-> 3100\u001b[0;31m         \u001b[0mvalue\u001b[0m \u001b[0;34m=\u001b[0m \u001b[0mself\u001b[0m\u001b[0;34m.\u001b[0m\u001b[0m_sanitize_column\u001b[0m\u001b[0;34m(\u001b[0m\u001b[0mloc\u001b[0m\u001b[0;34m,\u001b[0m \u001b[0mvalue\u001b[0m\u001b[0;34m,\u001b[0m \u001b[0mbroadcast\u001b[0m\u001b[0;34m=\u001b[0m\u001b[0;32mFalse\u001b[0m\u001b[0;34m)\u001b[0m\u001b[0;34m\u001b[0m\u001b[0;34m\u001b[0m\u001b[0m\n\u001b[0m\u001b[1;32m   3101\u001b[0m         \u001b[0mNDFrame\u001b[0m\u001b[0;34m.\u001b[0m\u001b[0m_iset_item\u001b[0m\u001b[0;34m(\u001b[0m\u001b[0mself\u001b[0m\u001b[0;34m,\u001b[0m \u001b[0mloc\u001b[0m\u001b[0;34m,\u001b[0m \u001b[0mvalue\u001b[0m\u001b[0;34m)\u001b[0m\u001b[0;34m\u001b[0m\u001b[0;34m\u001b[0m\u001b[0m\n\u001b[1;32m   3102\u001b[0m \u001b[0;34m\u001b[0m\u001b[0m\n",
      "\u001b[0;32m/opt/conda/lib/python3.7/site-packages/pandas/core/frame.py\u001b[0m in \u001b[0;36m_sanitize_column\u001b[0;34m(self, key, value, broadcast)\u001b[0m\n\u001b[1;32m   3766\u001b[0m \u001b[0;34m\u001b[0m\u001b[0m\n\u001b[1;32m   3767\u001b[0m             \u001b[0;31m# turn me into an ndarray\u001b[0m\u001b[0;34m\u001b[0m\u001b[0;34m\u001b[0m\u001b[0;34m\u001b[0m\u001b[0m\n\u001b[0;32m-> 3768\u001b[0;31m             \u001b[0mvalue\u001b[0m \u001b[0;34m=\u001b[0m \u001b[0msanitize_index\u001b[0m\u001b[0;34m(\u001b[0m\u001b[0mvalue\u001b[0m\u001b[0;34m,\u001b[0m \u001b[0mself\u001b[0m\u001b[0;34m.\u001b[0m\u001b[0mindex\u001b[0m\u001b[0;34m)\u001b[0m\u001b[0;34m\u001b[0m\u001b[0;34m\u001b[0m\u001b[0m\n\u001b[0m\u001b[1;32m   3769\u001b[0m             \u001b[0;32mif\u001b[0m \u001b[0;32mnot\u001b[0m \u001b[0misinstance\u001b[0m\u001b[0;34m(\u001b[0m\u001b[0mvalue\u001b[0m\u001b[0;34m,\u001b[0m \u001b[0;34m(\u001b[0m\u001b[0mnp\u001b[0m\u001b[0;34m.\u001b[0m\u001b[0mndarray\u001b[0m\u001b[0;34m,\u001b[0m \u001b[0mIndex\u001b[0m\u001b[0;34m)\u001b[0m\u001b[0;34m)\u001b[0m\u001b[0;34m:\u001b[0m\u001b[0;34m\u001b[0m\u001b[0;34m\u001b[0m\u001b[0m\n\u001b[1;32m   3770\u001b[0m                 \u001b[0;32mif\u001b[0m \u001b[0misinstance\u001b[0m\u001b[0;34m(\u001b[0m\u001b[0mvalue\u001b[0m\u001b[0;34m,\u001b[0m \u001b[0mlist\u001b[0m\u001b[0;34m)\u001b[0m \u001b[0;32mand\u001b[0m \u001b[0mlen\u001b[0m\u001b[0;34m(\u001b[0m\u001b[0mvalue\u001b[0m\u001b[0;34m)\u001b[0m \u001b[0;34m>\u001b[0m \u001b[0;36m0\u001b[0m\u001b[0;34m:\u001b[0m\u001b[0;34m\u001b[0m\u001b[0;34m\u001b[0m\u001b[0m\n",
      "\u001b[0;32m/opt/conda/lib/python3.7/site-packages/pandas/core/internals/construction.py\u001b[0m in \u001b[0;36msanitize_index\u001b[0;34m(data, index)\u001b[0m\n\u001b[1;32m    746\u001b[0m     \u001b[0;32mif\u001b[0m \u001b[0mlen\u001b[0m\u001b[0;34m(\u001b[0m\u001b[0mdata\u001b[0m\u001b[0;34m)\u001b[0m \u001b[0;34m!=\u001b[0m \u001b[0mlen\u001b[0m\u001b[0;34m(\u001b[0m\u001b[0mindex\u001b[0m\u001b[0;34m)\u001b[0m\u001b[0;34m:\u001b[0m\u001b[0;34m\u001b[0m\u001b[0;34m\u001b[0m\u001b[0m\n\u001b[1;32m    747\u001b[0m         raise ValueError(\n\u001b[0;32m--> 748\u001b[0;31m             \u001b[0;34m\"Length of values \"\u001b[0m\u001b[0;34m\u001b[0m\u001b[0;34m\u001b[0m\u001b[0m\n\u001b[0m\u001b[1;32m    749\u001b[0m             \u001b[0;34mf\"({len(data)}) \"\u001b[0m\u001b[0;34m\u001b[0m\u001b[0;34m\u001b[0m\u001b[0m\n\u001b[1;32m    750\u001b[0m             \u001b[0;34m\"does not match length of index \"\u001b[0m\u001b[0;34m\u001b[0m\u001b[0;34m\u001b[0m\u001b[0m\n",
      "\u001b[0;31mValueError\u001b[0m: Length of values (2045) does not match length of index (10357)"
     ]
    }
   ],
   "source": [
    "df_submission = pd.read_csv('/kaggle/input/dog-breed-identification/sample_submission.csv')\n",
    "df_submission['id'] = id_list\n",
    "df_submission.iloc[:,1:] = y_pred\n",
    "df_submission.head()"
   ]
  },
  {
   "cell_type": "code",
   "execution_count": 36,
   "id": "expensive-blood",
   "metadata": {
    "execution": {
     "iopub.execute_input": "2021-06-11T08:21:43.268860Z",
     "iopub.status.busy": "2021-06-11T08:21:43.268297Z",
     "iopub.status.idle": "2021-06-11T08:21:45.848860Z",
     "shell.execute_reply": "2021-06-11T08:21:45.848346Z"
    },
    "papermill": {
     "duration": 2.848909,
     "end_time": "2021-06-11T08:21:45.849002",
     "exception": false,
     "start_time": "2021-06-11T08:21:43.000093",
     "status": "completed"
    },
    "tags": []
   },
   "outputs": [],
   "source": [
    "final_df = df_submission.set_index('id')\n",
    "final_df.to_csv('Submission.csv')"
   ]
  }
 ],
 "metadata": {
  "kernelspec": {
   "display_name": "Python 3",
   "language": "python",
   "name": "python3"
  },
  "language_info": {
   "codemirror_mode": {
    "name": "ipython",
    "version": 3
   },
   "file_extension": ".py",
   "mimetype": "text/x-python",
   "name": "python",
   "nbconvert_exporter": "python",
   "pygments_lexer": "ipython3",
   "version": "3.7.10"
  },
  "papermill": {
   "default_parameters": {},
   "duration": 170.752009,
   "end_time": "2021-06-11T08:21:48.923499",
   "environment_variables": {},
   "exception": null,
   "input_path": "__notebook__.ipynb",
   "output_path": "__notebook__.ipynb",
   "parameters": {},
   "start_time": "2021-06-11T08:18:58.171490",
   "version": "2.3.3"
  }
 },
 "nbformat": 4,
 "nbformat_minor": 5
}
