{
 "cells": [
  {
   "cell_type": "code",
   "execution_count": 1,
   "id": "owned-trauma",
   "metadata": {
    "_cell_guid": "b1076dfc-b9ad-4769-8c92-a6c4dae69d19",
    "_uuid": "8f2839f25d086af736a60e9eeb907d3b93b6e0e5",
    "execution": {
     "iopub.execute_input": "2021-06-10T08:57:37.860794Z",
     "iopub.status.busy": "2021-06-10T08:57:37.860217Z",
     "iopub.status.idle": "2021-06-10T08:57:38.522943Z",
     "shell.execute_reply": "2021-06-10T08:57:38.521972Z",
     "shell.execute_reply.started": "2021-06-10T07:34:33.247017Z"
    },
    "papermill": {
     "duration": 0.688458,
     "end_time": "2021-06-10T08:57:38.523114",
     "exception": false,
     "start_time": "2021-06-10T08:57:37.834656",
     "status": "completed"
    },
    "tags": []
   },
   "outputs": [
    {
     "name": "stdout",
     "output_type": "stream",
     "text": [
      "Thu Jun 10 08:57:38 2021       \r\n",
      "+-----------------------------------------------------------------------------+\r\n",
      "| NVIDIA-SMI 450.119.04   Driver Version: 450.119.04   CUDA Version: 11.0     |\r\n",
      "|-------------------------------+----------------------+----------------------+\r\n",
      "| GPU  Name        Persistence-M| Bus-Id        Disp.A | Volatile Uncorr. ECC |\r\n",
      "| Fan  Temp  Perf  Pwr:Usage/Cap|         Memory-Usage | GPU-Util  Compute M. |\r\n",
      "|                               |                      |               MIG M. |\r\n",
      "|===============================+======================+======================|\r\n",
      "|   0  Tesla P100-PCIE...  Off  | 00000000:00:04.0 Off |                    0 |\r\n",
      "| N/A   35C    P0    25W / 250W |      0MiB / 16280MiB |      0%      Default |\r\n",
      "|                               |                      |                  N/A |\r\n",
      "+-------------------------------+----------------------+----------------------+\r\n",
      "                                                                               \r\n",
      "+-----------------------------------------------------------------------------+\r\n",
      "| Processes:                                                                  |\r\n",
      "|  GPU   GI   CI        PID   Type   Process name                  GPU Memory |\r\n",
      "|        ID   ID                                                   Usage      |\r\n",
      "|=============================================================================|\r\n",
      "|  No running processes found                                                 |\r\n",
      "+-----------------------------------------------------------------------------+\r\n"
     ]
    }
   ],
   "source": [
    "# Printing CPU infos (CPU allocated : Tesla p-100)\n",
    "!nvidia-smi"
   ]
  },
  {
   "cell_type": "code",
   "execution_count": 2,
   "id": "devoted-asset",
   "metadata": {
    "execution": {
     "iopub.execute_input": "2021-06-10T08:57:38.562660Z",
     "iopub.status.busy": "2021-06-10T08:57:38.562016Z",
     "iopub.status.idle": "2021-06-10T08:57:43.870704Z",
     "shell.execute_reply": "2021-06-10T08:57:43.869842Z",
     "shell.execute_reply.started": "2021-06-10T08:15:46.299991Z"
    },
    "papermill": {
     "duration": 5.330487,
     "end_time": "2021-06-10T08:57:43.870843",
     "exception": false,
     "start_time": "2021-06-10T08:57:38.540356",
     "status": "completed"
    },
    "tags": []
   },
   "outputs": [],
   "source": [
    "# Python ≥3.5 is required\n",
    "import sys\n",
    "assert sys.version_info >= (3, 5)\n",
    "\n",
    "# Is this notebook running on Colab or Kaggle?\n",
    "IS_COLAB = \"google.colab\" in sys.modules\n",
    "IS_KAGGLE = \"kaggle_secrets\" in sys.modules\n",
    "\n",
    "# Scikit-Learn ≥0.20 is required\n",
    "import sklearn\n",
    "assert sklearn.__version__ >= \"0.20\"\n",
    "\n",
    "# TensorFlow ≥2.0 is required\n",
    "import tensorflow as tf\n",
    "import keras\n",
    "assert tf.__version__ >= \"2.0\"\n",
    "\n",
    "if not tf.config.list_physical_devices('GPU'):\n",
    "    print(\"No GPU was detected. CNNs can be very slow without a GPU.\")\n",
    "    if IS_COLAB:\n",
    "        print(\"Go to Runtime > Change runtime and select a GPU hardware accelerator.\")\n",
    "    if IS_KAGGLE:\n",
    "        print(\"Go to Settings > Accelerator and select GPU.\")\n",
    "\n",
    "# Common imports\n",
    "import numpy as np\n",
    "import pandas as pd\n",
    "import seaborn as sns\n",
    "import os\n",
    "from keras.preprocessing.image import img_to_array, load_img, ImageDataGenerator"
   ]
  },
  {
   "cell_type": "code",
   "execution_count": 3,
   "id": "requested-issue",
   "metadata": {
    "execution": {
     "iopub.execute_input": "2021-06-10T08:57:43.915142Z",
     "iopub.status.busy": "2021-06-10T08:57:43.914424Z",
     "iopub.status.idle": "2021-06-10T08:57:43.916806Z",
     "shell.execute_reply": "2021-06-10T08:57:43.917212Z",
     "shell.execute_reply.started": "2021-06-10T07:50:20.719623Z"
    },
    "papermill": {
     "duration": 0.030752,
     "end_time": "2021-06-10T08:57:43.917356",
     "exception": false,
     "start_time": "2021-06-10T08:57:43.886604",
     "status": "completed"
    },
    "tags": []
   },
   "outputs": [],
   "source": [
    "# to make this notebook's output stable across runs\n",
    "np.random.seed(42)\n",
    "tf.random.set_seed(42)\n",
    "\n",
    "# To plot pretty figures\n",
    "%matplotlib inline\n",
    "import matplotlib as mpl\n",
    "import matplotlib.pyplot as plt\n",
    "mpl.rc('axes', labelsize=14)\n",
    "mpl.rc('xtick', labelsize=12)\n",
    "mpl.rc('ytick', labelsize=12)\n",
    "\n",
    "# Where to save the figures\n",
    "PROJECT_ROOT_DIR = \".\"\n",
    "CHAPTER_ID = \"cnn\"\n",
    "IMAGES_PATH = os.path.join(PROJECT_ROOT_DIR, \"images\", CHAPTER_ID)\n",
    "os.makedirs(IMAGES_PATH, exist_ok=True)\n",
    "\n",
    "# Function to save figures\n",
    "def save_fig(fig_id, tight_layout=True, fig_extension=\"jpg\", resolution=300):\n",
    "    path = os.path.join(IMAGES_PATH, fig_id + \".\" + fig_extension)\n",
    "    print(\"Saving figure\", fig_id)\n",
    "    if tight_layout:\n",
    "        plt.tight_layout()\n",
    "    plt.savefig(path, format=fig_extension, dpi=resolution)"
   ]
  },
  {
   "cell_type": "code",
   "execution_count": 4,
   "id": "catholic-halloween",
   "metadata": {
    "execution": {
     "iopub.execute_input": "2021-06-10T08:57:43.952752Z",
     "iopub.status.busy": "2021-06-10T08:57:43.952229Z",
     "iopub.status.idle": "2021-06-10T08:57:43.956014Z",
     "shell.execute_reply": "2021-06-10T08:57:43.955621Z",
     "shell.execute_reply.started": "2021-06-10T07:50:26.460693Z"
    },
    "papermill": {
     "duration": 0.022966,
     "end_time": "2021-06-10T08:57:43.956117",
     "exception": false,
     "start_time": "2021-06-10T08:57:43.933151",
     "status": "completed"
    },
    "tags": []
   },
   "outputs": [],
   "source": [
    "def plot_image(image):\n",
    "    plt.imshow(image, cmap=\"gray\", interpolation=\"nearest\")\n",
    "    plt.axis(\"off\")\n",
    "\n",
    "def plot_color_image(image):\n",
    "    plt.imshow(image, interpolation=\"nearest\")\n",
    "    plt.axis(\"off\")"
   ]
  },
  {
   "cell_type": "markdown",
   "id": "velvet-garlic",
   "metadata": {
    "papermill": {
     "duration": 0.015138,
     "end_time": "2021-06-10T08:57:43.986524",
     "exception": false,
     "start_time": "2021-06-10T08:57:43.971386",
     "status": "completed"
    },
    "tags": []
   },
   "source": [
    "# Part 1 - Import Dataset"
   ]
  },
  {
   "cell_type": "code",
   "execution_count": 5,
   "id": "industrial-loading",
   "metadata": {
    "execution": {
     "iopub.execute_input": "2021-06-10T08:57:44.022573Z",
     "iopub.status.busy": "2021-06-10T08:57:44.022050Z",
     "iopub.status.idle": "2021-06-10T08:57:44.048494Z",
     "shell.execute_reply": "2021-06-10T08:57:44.048054Z",
     "shell.execute_reply.started": "2021-06-10T07:50:31.260616Z"
    },
    "papermill": {
     "duration": 0.046705,
     "end_time": "2021-06-10T08:57:44.048611",
     "exception": false,
     "start_time": "2021-06-10T08:57:44.001906",
     "status": "completed"
    },
    "tags": []
   },
   "outputs": [],
   "source": [
    "# Import the dataset from the input folder\n",
    "df = pd.read_csv('../input/dog-breed-identification/labels.csv')"
   ]
  },
  {
   "cell_type": "code",
   "execution_count": 6,
   "id": "pacific-retention",
   "metadata": {
    "execution": {
     "iopub.execute_input": "2021-06-10T08:57:44.093018Z",
     "iopub.status.busy": "2021-06-10T08:57:44.087338Z",
     "iopub.status.idle": "2021-06-10T08:57:44.100153Z",
     "shell.execute_reply": "2021-06-10T08:57:44.100560Z",
     "shell.execute_reply.started": "2021-06-10T07:50:34.358566Z"
    },
    "papermill": {
     "duration": 0.036678,
     "end_time": "2021-06-10T08:57:44.100679",
     "exception": false,
     "start_time": "2021-06-10T08:57:44.064001",
     "status": "completed"
    },
    "tags": []
   },
   "outputs": [
    {
     "data": {
      "text/html": [
       "<div>\n",
       "<style scoped>\n",
       "    .dataframe tbody tr th:only-of-type {\n",
       "        vertical-align: middle;\n",
       "    }\n",
       "\n",
       "    .dataframe tbody tr th {\n",
       "        vertical-align: top;\n",
       "    }\n",
       "\n",
       "    .dataframe thead th {\n",
       "        text-align: right;\n",
       "    }\n",
       "</style>\n",
       "<table border=\"1\" class=\"dataframe\">\n",
       "  <thead>\n",
       "    <tr style=\"text-align: right;\">\n",
       "      <th></th>\n",
       "      <th>id</th>\n",
       "      <th>breed</th>\n",
       "    </tr>\n",
       "  </thead>\n",
       "  <tbody>\n",
       "    <tr>\n",
       "      <th>0</th>\n",
       "      <td>000bec180eb18c7604dcecc8fe0dba07</td>\n",
       "      <td>boston_bull</td>\n",
       "    </tr>\n",
       "    <tr>\n",
       "      <th>1</th>\n",
       "      <td>001513dfcb2ffafc82cccf4d8bbaba97</td>\n",
       "      <td>dingo</td>\n",
       "    </tr>\n",
       "    <tr>\n",
       "      <th>2</th>\n",
       "      <td>001cdf01b096e06d78e9e5112d419397</td>\n",
       "      <td>pekinese</td>\n",
       "    </tr>\n",
       "    <tr>\n",
       "      <th>3</th>\n",
       "      <td>00214f311d5d2247d5dfe4fe24b2303d</td>\n",
       "      <td>bluetick</td>\n",
       "    </tr>\n",
       "    <tr>\n",
       "      <th>4</th>\n",
       "      <td>0021f9ceb3235effd7fcde7f7538ed62</td>\n",
       "      <td>golden_retriever</td>\n",
       "    </tr>\n",
       "  </tbody>\n",
       "</table>\n",
       "</div>"
      ],
      "text/plain": [
       "                                 id             breed\n",
       "0  000bec180eb18c7604dcecc8fe0dba07       boston_bull\n",
       "1  001513dfcb2ffafc82cccf4d8bbaba97             dingo\n",
       "2  001cdf01b096e06d78e9e5112d419397          pekinese\n",
       "3  00214f311d5d2247d5dfe4fe24b2303d          bluetick\n",
       "4  0021f9ceb3235effd7fcde7f7538ed62  golden_retriever"
      ]
     },
     "execution_count": 6,
     "metadata": {},
     "output_type": "execute_result"
    }
   ],
   "source": [
    "df.head()"
   ]
  },
  {
   "cell_type": "markdown",
   "id": "annual-metro",
   "metadata": {
    "papermill": {
     "duration": 0.015513,
     "end_time": "2021-06-10T08:57:44.131970",
     "exception": false,
     "start_time": "2021-06-10T08:57:44.116457",
     "status": "completed"
    },
    "tags": []
   },
   "source": [
    "Let's add a new column in this dataframe with the path of each dog image.\n"
   ]
  },
  {
   "cell_type": "code",
   "execution_count": 7,
   "id": "greater-cotton",
   "metadata": {
    "execution": {
     "iopub.execute_input": "2021-06-10T08:57:44.169021Z",
     "iopub.status.busy": "2021-06-10T08:57:44.168349Z",
     "iopub.status.idle": "2021-06-10T08:57:44.185839Z",
     "shell.execute_reply": "2021-06-10T08:57:44.185430Z",
     "shell.execute_reply.started": "2021-06-10T07:50:40.007110Z"
    },
    "papermill": {
     "duration": 0.037895,
     "end_time": "2021-06-10T08:57:44.185943",
     "exception": false,
     "start_time": "2021-06-10T08:57:44.148048",
     "status": "completed"
    },
    "tags": []
   },
   "outputs": [],
   "source": [
    "# Path to the train folder containing all the images\n",
    "IMG_TRAIN_PATH = \"/kaggle/input/dog-breed-identification/train/\"\n",
    "\n",
    "# Path to the test folder containing all the test images\n",
    "IMG_TEST_PATH = \"/kaggle/input/dog-breed-identification/test/\"\n",
    "\n",
    "# Creating the new dataframe column \"img_path\"\n",
    "df = df.assign(img_path = lambda x: IMG_TRAIN_PATH + x['id'] + '.jpg')"
   ]
  },
  {
   "cell_type": "code",
   "execution_count": 8,
   "id": "eastern-citizen",
   "metadata": {
    "execution": {
     "iopub.execute_input": "2021-06-10T08:57:44.225746Z",
     "iopub.status.busy": "2021-06-10T08:57:44.225209Z",
     "iopub.status.idle": "2021-06-10T08:57:44.228330Z",
     "shell.execute_reply": "2021-06-10T08:57:44.228723Z",
     "shell.execute_reply.started": "2021-06-10T07:50:45.793443Z"
    },
    "papermill": {
     "duration": 0.027177,
     "end_time": "2021-06-10T08:57:44.228835",
     "exception": false,
     "start_time": "2021-06-10T08:57:44.201658",
     "status": "completed"
    },
    "tags": []
   },
   "outputs": [
    {
     "data": {
      "text/html": [
       "<div>\n",
       "<style scoped>\n",
       "    .dataframe tbody tr th:only-of-type {\n",
       "        vertical-align: middle;\n",
       "    }\n",
       "\n",
       "    .dataframe tbody tr th {\n",
       "        vertical-align: top;\n",
       "    }\n",
       "\n",
       "    .dataframe thead th {\n",
       "        text-align: right;\n",
       "    }\n",
       "</style>\n",
       "<table border=\"1\" class=\"dataframe\">\n",
       "  <thead>\n",
       "    <tr style=\"text-align: right;\">\n",
       "      <th></th>\n",
       "      <th>id</th>\n",
       "      <th>breed</th>\n",
       "      <th>img_path</th>\n",
       "    </tr>\n",
       "  </thead>\n",
       "  <tbody>\n",
       "    <tr>\n",
       "      <th>0</th>\n",
       "      <td>000bec180eb18c7604dcecc8fe0dba07</td>\n",
       "      <td>boston_bull</td>\n",
       "      <td>/kaggle/input/dog-breed-identification/train/0...</td>\n",
       "    </tr>\n",
       "    <tr>\n",
       "      <th>1</th>\n",
       "      <td>001513dfcb2ffafc82cccf4d8bbaba97</td>\n",
       "      <td>dingo</td>\n",
       "      <td>/kaggle/input/dog-breed-identification/train/0...</td>\n",
       "    </tr>\n",
       "    <tr>\n",
       "      <th>2</th>\n",
       "      <td>001cdf01b096e06d78e9e5112d419397</td>\n",
       "      <td>pekinese</td>\n",
       "      <td>/kaggle/input/dog-breed-identification/train/0...</td>\n",
       "    </tr>\n",
       "    <tr>\n",
       "      <th>3</th>\n",
       "      <td>00214f311d5d2247d5dfe4fe24b2303d</td>\n",
       "      <td>bluetick</td>\n",
       "      <td>/kaggle/input/dog-breed-identification/train/0...</td>\n",
       "    </tr>\n",
       "    <tr>\n",
       "      <th>4</th>\n",
       "      <td>0021f9ceb3235effd7fcde7f7538ed62</td>\n",
       "      <td>golden_retriever</td>\n",
       "      <td>/kaggle/input/dog-breed-identification/train/0...</td>\n",
       "    </tr>\n",
       "  </tbody>\n",
       "</table>\n",
       "</div>"
      ],
      "text/plain": [
       "                                 id             breed  \\\n",
       "0  000bec180eb18c7604dcecc8fe0dba07       boston_bull   \n",
       "1  001513dfcb2ffafc82cccf4d8bbaba97             dingo   \n",
       "2  001cdf01b096e06d78e9e5112d419397          pekinese   \n",
       "3  00214f311d5d2247d5dfe4fe24b2303d          bluetick   \n",
       "4  0021f9ceb3235effd7fcde7f7538ed62  golden_retriever   \n",
       "\n",
       "                                            img_path  \n",
       "0  /kaggle/input/dog-breed-identification/train/0...  \n",
       "1  /kaggle/input/dog-breed-identification/train/0...  \n",
       "2  /kaggle/input/dog-breed-identification/train/0...  \n",
       "3  /kaggle/input/dog-breed-identification/train/0...  \n",
       "4  /kaggle/input/dog-breed-identification/train/0...  "
      ]
     },
     "execution_count": 8,
     "metadata": {},
     "output_type": "execute_result"
    }
   ],
   "source": [
    "df.head()"
   ]
  },
  {
   "cell_type": "markdown",
   "id": "helpful-exploration",
   "metadata": {
    "papermill": {
     "duration": 0.01594,
     "end_time": "2021-06-10T08:57:44.260867",
     "exception": false,
     "start_time": "2021-06-10T08:57:44.244927",
     "status": "completed"
    },
    "tags": []
   },
   "source": [
    "# Part 2 - Image preprocessing (Data augmentation)"
   ]
  },
  {
   "cell_type": "markdown",
   "id": "sunrise-nerve",
   "metadata": {
    "papermill": {
     "duration": 0.016039,
     "end_time": "2021-06-10T08:57:44.293101",
     "exception": false,
     "start_time": "2021-06-10T08:57:44.277062",
     "status": "completed"
    },
    "tags": []
   },
   "source": [
    "## Preprocessing the training set"
   ]
  },
  {
   "cell_type": "code",
   "execution_count": 9,
   "id": "minimal-incentive",
   "metadata": {
    "execution": {
     "iopub.execute_input": "2021-06-10T08:57:44.329343Z",
     "iopub.status.busy": "2021-06-10T08:57:44.328710Z",
     "iopub.status.idle": "2021-06-10T08:57:44.331386Z",
     "shell.execute_reply": "2021-06-10T08:57:44.330989Z",
     "shell.execute_reply.started": "2021-06-10T08:11:57.388705Z"
    },
    "papermill": {
     "duration": 0.022243,
     "end_time": "2021-06-10T08:57:44.331486",
     "exception": false,
     "start_time": "2021-06-10T08:57:44.309243",
     "status": "completed"
    },
    "tags": []
   },
   "outputs": [],
   "source": [
    "# Applying transformation to all the images of the training set to avoid overfitting\n",
    "train_datagen = ImageDataGenerator(\n",
    "    rescale = 1./255, # rescaling factor. Defaults to None. If None or 0, no rescaling is applied \n",
    "    shear_range = 0.2, # Float. Shear Intensity (Shear angle in counter-clockwise direction in degrees)\n",
    "    zoom_range = 0.2, # Float or [lower, upper]. Range for random zoom.\n",
    "    horizontal_flip = True, # Boolean. Randomly flip inputs vertically.\n",
    "    validation_split = 0.25\n",
    ")"
   ]
  },
  {
   "cell_type": "markdown",
   "id": "greater-classification",
   "metadata": {
    "papermill": {
     "duration": 0.016532,
     "end_time": "2021-06-10T08:57:44.364104",
     "exception": false,
     "start_time": "2021-06-10T08:57:44.347572",
     "status": "completed"
    },
    "tags": []
   },
   "source": [
    "## Preprocessing the testing set"
   ]
  },
  {
   "cell_type": "code",
   "execution_count": 10,
   "id": "athletic-participant",
   "metadata": {
    "execution": {
     "iopub.execute_input": "2021-06-10T08:57:44.400522Z",
     "iopub.status.busy": "2021-06-10T08:57:44.399884Z",
     "iopub.status.idle": "2021-06-10T08:57:44.402565Z",
     "shell.execute_reply": "2021-06-10T08:57:44.402167Z",
     "shell.execute_reply.started": "2021-06-10T08:12:00.211940Z"
    },
    "papermill": {
     "duration": 0.022141,
     "end_time": "2021-06-10T08:57:44.402664",
     "exception": false,
     "start_time": "2021-06-10T08:57:44.380523",
     "status": "completed"
    },
    "tags": []
   },
   "outputs": [],
   "source": [
    "test_datagen = ImageDataGenerator(\n",
    "    rescale = 1./255\n",
    ")"
   ]
  },
  {
   "cell_type": "markdown",
   "id": "weird-package",
   "metadata": {
    "papermill": {
     "duration": 0.0159,
     "end_time": "2021-06-10T08:57:44.434654",
     "exception": false,
     "start_time": "2021-06-10T08:57:44.418754",
     "status": "completed"
    },
    "tags": []
   },
   "source": [
    "# Part 3 - Splitting the dataset into the training set and the testing set"
   ]
  },
  {
   "cell_type": "code",
   "execution_count": 11,
   "id": "exclusive-cooler",
   "metadata": {
    "execution": {
     "iopub.execute_input": "2021-06-10T08:57:44.472382Z",
     "iopub.status.busy": "2021-06-10T08:57:44.471641Z",
     "iopub.status.idle": "2021-06-10T08:57:54.933231Z",
     "shell.execute_reply": "2021-06-10T08:57:54.933676Z",
     "shell.execute_reply.started": "2021-06-10T08:12:06.342406Z"
    },
    "papermill": {
     "duration": 10.483035,
     "end_time": "2021-06-10T08:57:54.933833",
     "exception": false,
     "start_time": "2021-06-10T08:57:44.450798",
     "status": "completed"
    },
    "tags": []
   },
   "outputs": [
    {
     "name": "stdout",
     "output_type": "stream",
     "text": [
      "Found 7667 validated image filenames belonging to 120 classes.\n",
      "Found 2555 validated image filenames belonging to 120 classes.\n"
     ]
    }
   ],
   "source": [
    "train_generator = train_datagen.flow_from_dataframe(\n",
    "    dataframe = df,\n",
    "    directory=\"../input/dog-breed-identification/\",\n",
    "    x_col=\"img_path\",\n",
    "    y_col=\"breed\",\n",
    "    subset=\"training\",\n",
    "    batch_size=32,\n",
    "    seed=42,\n",
    "    shuffle=True,\n",
    "    class_mode=\"categorical\",\n",
    "    target_size=(224,224)\n",
    ")\n",
    "\n",
    "valid_generator = train_datagen.flow_from_dataframe(\n",
    "    dataframe=df,\n",
    "    directory=\"../input/dog-breed-identification/\",\n",
    "    x_col=\"img_path\",\n",
    "    y_col=\"breed\",\n",
    "    subset=\"validation\",\n",
    "    batch_size=32,\n",
    "    seed=42,\n",
    "    shuffle=True,\n",
    "    class_mode=\"categorical\",\n",
    "    target_size=(224,224)\n",
    ")"
   ]
  },
  {
   "cell_type": "markdown",
   "id": "allied-delaware",
   "metadata": {
    "papermill": {
     "duration": 0.017708,
     "end_time": "2021-06-10T08:57:54.969546",
     "exception": false,
     "start_time": "2021-06-10T08:57:54.951838",
     "status": "completed"
    },
    "tags": []
   },
   "source": [
    "# Part 4 - Neural network model"
   ]
  },
  {
   "cell_type": "code",
   "execution_count": 12,
   "id": "arranged-teach",
   "metadata": {
    "execution": {
     "iopub.execute_input": "2021-06-10T08:57:55.012873Z",
     "iopub.status.busy": "2021-06-10T08:57:55.012239Z",
     "iopub.status.idle": "2021-06-10T08:57:58.855090Z",
     "shell.execute_reply": "2021-06-10T08:57:58.854581Z",
     "shell.execute_reply.started": "2021-06-10T08:21:04.245689Z"
    },
    "papermill": {
     "duration": 3.868085,
     "end_time": "2021-06-10T08:57:58.855236",
     "exception": false,
     "start_time": "2021-06-10T08:57:54.987151",
     "status": "completed"
    },
    "tags": []
   },
   "outputs": [
    {
     "name": "stdout",
     "output_type": "stream",
     "text": [
      "Downloading data from https://storage.googleapis.com/tensorflow/keras-applications/xception/xception_weights_tf_dim_ordering_tf_kernels_notop.h5\n",
      "83689472/83683744 [==============================] - 1s 0us/step\n"
     ]
    }
   ],
   "source": [
    "base_model = keras.applications.xception.Xception(weights=\"imagenet\",include_top=False, input_shape=(224,224,3))\n",
    "avg = keras.layers.GlobalAveragePooling2D()(base_model.output)\n",
    "flat = keras.layers.Flatten()(avg)\n",
    "output = keras.layers.Dense(120, activation=\"softmax\")(flat)\n",
    "model = keras.Model(inputs=base_model.input, outputs=output)"
   ]
  },
  {
   "cell_type": "code",
   "execution_count": 13,
   "id": "southeast-evolution",
   "metadata": {
    "execution": {
     "iopub.execute_input": "2021-06-10T08:57:58.911223Z",
     "iopub.status.busy": "2021-06-10T08:57:58.902464Z",
     "iopub.status.idle": "2021-06-10T08:57:58.967903Z",
     "shell.execute_reply": "2021-06-10T08:57:58.968531Z",
     "shell.execute_reply.started": "2021-06-10T08:21:07.640869Z"
    },
    "papermill": {
     "duration": 0.091208,
     "end_time": "2021-06-10T08:57:58.968705",
     "exception": false,
     "start_time": "2021-06-10T08:57:58.877497",
     "status": "completed"
    },
    "tags": []
   },
   "outputs": [
    {
     "name": "stdout",
     "output_type": "stream",
     "text": [
      "Model: \"model\"\n",
      "__________________________________________________________________________________________________\n",
      "Layer (type)                    Output Shape         Param #     Connected to                     \n",
      "==================================================================================================\n",
      "input_1 (InputLayer)            [(None, 224, 224, 3) 0                                            \n",
      "__________________________________________________________________________________________________\n",
      "block1_conv1 (Conv2D)           (None, 111, 111, 32) 864         input_1[0][0]                    \n",
      "__________________________________________________________________________________________________\n",
      "block1_conv1_bn (BatchNormaliza (None, 111, 111, 32) 128         block1_conv1[0][0]               \n",
      "__________________________________________________________________________________________________\n",
      "block1_conv1_act (Activation)   (None, 111, 111, 32) 0           block1_conv1_bn[0][0]            \n",
      "__________________________________________________________________________________________________\n",
      "block1_conv2 (Conv2D)           (None, 109, 109, 64) 18432       block1_conv1_act[0][0]           \n",
      "__________________________________________________________________________________________________\n",
      "block1_conv2_bn (BatchNormaliza (None, 109, 109, 64) 256         block1_conv2[0][0]               \n",
      "__________________________________________________________________________________________________\n",
      "block1_conv2_act (Activation)   (None, 109, 109, 64) 0           block1_conv2_bn[0][0]            \n",
      "__________________________________________________________________________________________________\n",
      "block2_sepconv1 (SeparableConv2 (None, 109, 109, 128 8768        block1_conv2_act[0][0]           \n",
      "__________________________________________________________________________________________________\n",
      "block2_sepconv1_bn (BatchNormal (None, 109, 109, 128 512         block2_sepconv1[0][0]            \n",
      "__________________________________________________________________________________________________\n",
      "block2_sepconv2_act (Activation (None, 109, 109, 128 0           block2_sepconv1_bn[0][0]         \n",
      "__________________________________________________________________________________________________\n",
      "block2_sepconv2 (SeparableConv2 (None, 109, 109, 128 17536       block2_sepconv2_act[0][0]        \n",
      "__________________________________________________________________________________________________\n",
      "block2_sepconv2_bn (BatchNormal (None, 109, 109, 128 512         block2_sepconv2[0][0]            \n",
      "__________________________________________________________________________________________________\n",
      "conv2d (Conv2D)                 (None, 55, 55, 128)  8192        block1_conv2_act[0][0]           \n",
      "__________________________________________________________________________________________________\n",
      "block2_pool (MaxPooling2D)      (None, 55, 55, 128)  0           block2_sepconv2_bn[0][0]         \n",
      "__________________________________________________________________________________________________\n",
      "batch_normalization (BatchNorma (None, 55, 55, 128)  512         conv2d[0][0]                     \n",
      "__________________________________________________________________________________________________\n",
      "add (Add)                       (None, 55, 55, 128)  0           block2_pool[0][0]                \n",
      "                                                                 batch_normalization[0][0]        \n",
      "__________________________________________________________________________________________________\n",
      "block3_sepconv1_act (Activation (None, 55, 55, 128)  0           add[0][0]                        \n",
      "__________________________________________________________________________________________________\n",
      "block3_sepconv1 (SeparableConv2 (None, 55, 55, 256)  33920       block3_sepconv1_act[0][0]        \n",
      "__________________________________________________________________________________________________\n",
      "block3_sepconv1_bn (BatchNormal (None, 55, 55, 256)  1024        block3_sepconv1[0][0]            \n",
      "__________________________________________________________________________________________________\n",
      "block3_sepconv2_act (Activation (None, 55, 55, 256)  0           block3_sepconv1_bn[0][0]         \n",
      "__________________________________________________________________________________________________\n",
      "block3_sepconv2 (SeparableConv2 (None, 55, 55, 256)  67840       block3_sepconv2_act[0][0]        \n",
      "__________________________________________________________________________________________________\n",
      "block3_sepconv2_bn (BatchNormal (None, 55, 55, 256)  1024        block3_sepconv2[0][0]            \n",
      "__________________________________________________________________________________________________\n",
      "conv2d_1 (Conv2D)               (None, 28, 28, 256)  32768       add[0][0]                        \n",
      "__________________________________________________________________________________________________\n",
      "block3_pool (MaxPooling2D)      (None, 28, 28, 256)  0           block3_sepconv2_bn[0][0]         \n",
      "__________________________________________________________________________________________________\n",
      "batch_normalization_1 (BatchNor (None, 28, 28, 256)  1024        conv2d_1[0][0]                   \n",
      "__________________________________________________________________________________________________\n",
      "add_1 (Add)                     (None, 28, 28, 256)  0           block3_pool[0][0]                \n",
      "                                                                 batch_normalization_1[0][0]      \n",
      "__________________________________________________________________________________________________\n",
      "block4_sepconv1_act (Activation (None, 28, 28, 256)  0           add_1[0][0]                      \n",
      "__________________________________________________________________________________________________\n",
      "block4_sepconv1 (SeparableConv2 (None, 28, 28, 728)  188672      block4_sepconv1_act[0][0]        \n",
      "__________________________________________________________________________________________________\n",
      "block4_sepconv1_bn (BatchNormal (None, 28, 28, 728)  2912        block4_sepconv1[0][0]            \n",
      "__________________________________________________________________________________________________\n",
      "block4_sepconv2_act (Activation (None, 28, 28, 728)  0           block4_sepconv1_bn[0][0]         \n",
      "__________________________________________________________________________________________________\n",
      "block4_sepconv2 (SeparableConv2 (None, 28, 28, 728)  536536      block4_sepconv2_act[0][0]        \n",
      "__________________________________________________________________________________________________\n",
      "block4_sepconv2_bn (BatchNormal (None, 28, 28, 728)  2912        block4_sepconv2[0][0]            \n",
      "__________________________________________________________________________________________________\n",
      "conv2d_2 (Conv2D)               (None, 14, 14, 728)  186368      add_1[0][0]                      \n",
      "__________________________________________________________________________________________________\n",
      "block4_pool (MaxPooling2D)      (None, 14, 14, 728)  0           block4_sepconv2_bn[0][0]         \n",
      "__________________________________________________________________________________________________\n",
      "batch_normalization_2 (BatchNor (None, 14, 14, 728)  2912        conv2d_2[0][0]                   \n",
      "__________________________________________________________________________________________________\n",
      "add_2 (Add)                     (None, 14, 14, 728)  0           block4_pool[0][0]                \n",
      "                                                                 batch_normalization_2[0][0]      \n",
      "__________________________________________________________________________________________________\n",
      "block5_sepconv1_act (Activation (None, 14, 14, 728)  0           add_2[0][0]                      \n",
      "__________________________________________________________________________________________________\n",
      "block5_sepconv1 (SeparableConv2 (None, 14, 14, 728)  536536      block5_sepconv1_act[0][0]        \n",
      "__________________________________________________________________________________________________\n",
      "block5_sepconv1_bn (BatchNormal (None, 14, 14, 728)  2912        block5_sepconv1[0][0]            \n",
      "__________________________________________________________________________________________________\n",
      "block5_sepconv2_act (Activation (None, 14, 14, 728)  0           block5_sepconv1_bn[0][0]         \n",
      "__________________________________________________________________________________________________\n",
      "block5_sepconv2 (SeparableConv2 (None, 14, 14, 728)  536536      block5_sepconv2_act[0][0]        \n",
      "__________________________________________________________________________________________________\n",
      "block5_sepconv2_bn (BatchNormal (None, 14, 14, 728)  2912        block5_sepconv2[0][0]            \n",
      "__________________________________________________________________________________________________\n",
      "block5_sepconv3_act (Activation (None, 14, 14, 728)  0           block5_sepconv2_bn[0][0]         \n",
      "__________________________________________________________________________________________________\n",
      "block5_sepconv3 (SeparableConv2 (None, 14, 14, 728)  536536      block5_sepconv3_act[0][0]        \n",
      "__________________________________________________________________________________________________\n",
      "block5_sepconv3_bn (BatchNormal (None, 14, 14, 728)  2912        block5_sepconv3[0][0]            \n",
      "__________________________________________________________________________________________________\n",
      "add_3 (Add)                     (None, 14, 14, 728)  0           block5_sepconv3_bn[0][0]         \n",
      "                                                                 add_2[0][0]                      \n",
      "__________________________________________________________________________________________________\n",
      "block6_sepconv1_act (Activation (None, 14, 14, 728)  0           add_3[0][0]                      \n",
      "__________________________________________________________________________________________________\n",
      "block6_sepconv1 (SeparableConv2 (None, 14, 14, 728)  536536      block6_sepconv1_act[0][0]        \n",
      "__________________________________________________________________________________________________\n",
      "block6_sepconv1_bn (BatchNormal (None, 14, 14, 728)  2912        block6_sepconv1[0][0]            \n",
      "__________________________________________________________________________________________________\n",
      "block6_sepconv2_act (Activation (None, 14, 14, 728)  0           block6_sepconv1_bn[0][0]         \n",
      "__________________________________________________________________________________________________\n",
      "block6_sepconv2 (SeparableConv2 (None, 14, 14, 728)  536536      block6_sepconv2_act[0][0]        \n",
      "__________________________________________________________________________________________________\n",
      "block6_sepconv2_bn (BatchNormal (None, 14, 14, 728)  2912        block6_sepconv2[0][0]            \n",
      "__________________________________________________________________________________________________\n",
      "block6_sepconv3_act (Activation (None, 14, 14, 728)  0           block6_sepconv2_bn[0][0]         \n",
      "__________________________________________________________________________________________________\n",
      "block6_sepconv3 (SeparableConv2 (None, 14, 14, 728)  536536      block6_sepconv3_act[0][0]        \n",
      "__________________________________________________________________________________________________\n",
      "block6_sepconv3_bn (BatchNormal (None, 14, 14, 728)  2912        block6_sepconv3[0][0]            \n",
      "__________________________________________________________________________________________________\n",
      "add_4 (Add)                     (None, 14, 14, 728)  0           block6_sepconv3_bn[0][0]         \n",
      "                                                                 add_3[0][0]                      \n",
      "__________________________________________________________________________________________________\n",
      "block7_sepconv1_act (Activation (None, 14, 14, 728)  0           add_4[0][0]                      \n",
      "__________________________________________________________________________________________________\n",
      "block7_sepconv1 (SeparableConv2 (None, 14, 14, 728)  536536      block7_sepconv1_act[0][0]        \n",
      "__________________________________________________________________________________________________\n",
      "block7_sepconv1_bn (BatchNormal (None, 14, 14, 728)  2912        block7_sepconv1[0][0]            \n",
      "__________________________________________________________________________________________________\n",
      "block7_sepconv2_act (Activation (None, 14, 14, 728)  0           block7_sepconv1_bn[0][0]         \n",
      "__________________________________________________________________________________________________\n",
      "block7_sepconv2 (SeparableConv2 (None, 14, 14, 728)  536536      block7_sepconv2_act[0][0]        \n",
      "__________________________________________________________________________________________________\n",
      "block7_sepconv2_bn (BatchNormal (None, 14, 14, 728)  2912        block7_sepconv2[0][0]            \n",
      "__________________________________________________________________________________________________\n",
      "block7_sepconv3_act (Activation (None, 14, 14, 728)  0           block7_sepconv2_bn[0][0]         \n",
      "__________________________________________________________________________________________________\n",
      "block7_sepconv3 (SeparableConv2 (None, 14, 14, 728)  536536      block7_sepconv3_act[0][0]        \n",
      "__________________________________________________________________________________________________\n",
      "block7_sepconv3_bn (BatchNormal (None, 14, 14, 728)  2912        block7_sepconv3[0][0]            \n",
      "__________________________________________________________________________________________________\n",
      "add_5 (Add)                     (None, 14, 14, 728)  0           block7_sepconv3_bn[0][0]         \n",
      "                                                                 add_4[0][0]                      \n",
      "__________________________________________________________________________________________________\n",
      "block8_sepconv1_act (Activation (None, 14, 14, 728)  0           add_5[0][0]                      \n",
      "__________________________________________________________________________________________________\n",
      "block8_sepconv1 (SeparableConv2 (None, 14, 14, 728)  536536      block8_sepconv1_act[0][0]        \n",
      "__________________________________________________________________________________________________\n",
      "block8_sepconv1_bn (BatchNormal (None, 14, 14, 728)  2912        block8_sepconv1[0][0]            \n",
      "__________________________________________________________________________________________________\n",
      "block8_sepconv2_act (Activation (None, 14, 14, 728)  0           block8_sepconv1_bn[0][0]         \n",
      "__________________________________________________________________________________________________\n",
      "block8_sepconv2 (SeparableConv2 (None, 14, 14, 728)  536536      block8_sepconv2_act[0][0]        \n",
      "__________________________________________________________________________________________________\n",
      "block8_sepconv2_bn (BatchNormal (None, 14, 14, 728)  2912        block8_sepconv2[0][0]            \n",
      "__________________________________________________________________________________________________\n",
      "block8_sepconv3_act (Activation (None, 14, 14, 728)  0           block8_sepconv2_bn[0][0]         \n",
      "__________________________________________________________________________________________________\n",
      "block8_sepconv3 (SeparableConv2 (None, 14, 14, 728)  536536      block8_sepconv3_act[0][0]        \n",
      "__________________________________________________________________________________________________\n",
      "block8_sepconv3_bn (BatchNormal (None, 14, 14, 728)  2912        block8_sepconv3[0][0]            \n",
      "__________________________________________________________________________________________________\n",
      "add_6 (Add)                     (None, 14, 14, 728)  0           block8_sepconv3_bn[0][0]         \n",
      "                                                                 add_5[0][0]                      \n",
      "__________________________________________________________________________________________________\n",
      "block9_sepconv1_act (Activation (None, 14, 14, 728)  0           add_6[0][0]                      \n",
      "__________________________________________________________________________________________________\n",
      "block9_sepconv1 (SeparableConv2 (None, 14, 14, 728)  536536      block9_sepconv1_act[0][0]        \n",
      "__________________________________________________________________________________________________\n",
      "block9_sepconv1_bn (BatchNormal (None, 14, 14, 728)  2912        block9_sepconv1[0][0]            \n",
      "__________________________________________________________________________________________________\n",
      "block9_sepconv2_act (Activation (None, 14, 14, 728)  0           block9_sepconv1_bn[0][0]         \n",
      "__________________________________________________________________________________________________\n",
      "block9_sepconv2 (SeparableConv2 (None, 14, 14, 728)  536536      block9_sepconv2_act[0][0]        \n",
      "__________________________________________________________________________________________________\n",
      "block9_sepconv2_bn (BatchNormal (None, 14, 14, 728)  2912        block9_sepconv2[0][0]            \n",
      "__________________________________________________________________________________________________\n",
      "block9_sepconv3_act (Activation (None, 14, 14, 728)  0           block9_sepconv2_bn[0][0]         \n",
      "__________________________________________________________________________________________________\n",
      "block9_sepconv3 (SeparableConv2 (None, 14, 14, 728)  536536      block9_sepconv3_act[0][0]        \n",
      "__________________________________________________________________________________________________\n",
      "block9_sepconv3_bn (BatchNormal (None, 14, 14, 728)  2912        block9_sepconv3[0][0]            \n",
      "__________________________________________________________________________________________________\n",
      "add_7 (Add)                     (None, 14, 14, 728)  0           block9_sepconv3_bn[0][0]         \n",
      "                                                                 add_6[0][0]                      \n",
      "__________________________________________________________________________________________________\n",
      "block10_sepconv1_act (Activatio (None, 14, 14, 728)  0           add_7[0][0]                      \n",
      "__________________________________________________________________________________________________\n",
      "block10_sepconv1 (SeparableConv (None, 14, 14, 728)  536536      block10_sepconv1_act[0][0]       \n",
      "__________________________________________________________________________________________________\n",
      "block10_sepconv1_bn (BatchNorma (None, 14, 14, 728)  2912        block10_sepconv1[0][0]           \n",
      "__________________________________________________________________________________________________\n",
      "block10_sepconv2_act (Activatio (None, 14, 14, 728)  0           block10_sepconv1_bn[0][0]        \n",
      "__________________________________________________________________________________________________\n",
      "block10_sepconv2 (SeparableConv (None, 14, 14, 728)  536536      block10_sepconv2_act[0][0]       \n",
      "__________________________________________________________________________________________________\n",
      "block10_sepconv2_bn (BatchNorma (None, 14, 14, 728)  2912        block10_sepconv2[0][0]           \n",
      "__________________________________________________________________________________________________\n",
      "block10_sepconv3_act (Activatio (None, 14, 14, 728)  0           block10_sepconv2_bn[0][0]        \n",
      "__________________________________________________________________________________________________\n",
      "block10_sepconv3 (SeparableConv (None, 14, 14, 728)  536536      block10_sepconv3_act[0][0]       \n",
      "__________________________________________________________________________________________________\n",
      "block10_sepconv3_bn (BatchNorma (None, 14, 14, 728)  2912        block10_sepconv3[0][0]           \n",
      "__________________________________________________________________________________________________\n",
      "add_8 (Add)                     (None, 14, 14, 728)  0           block10_sepconv3_bn[0][0]        \n",
      "                                                                 add_7[0][0]                      \n",
      "__________________________________________________________________________________________________\n",
      "block11_sepconv1_act (Activatio (None, 14, 14, 728)  0           add_8[0][0]                      \n",
      "__________________________________________________________________________________________________\n",
      "block11_sepconv1 (SeparableConv (None, 14, 14, 728)  536536      block11_sepconv1_act[0][0]       \n",
      "__________________________________________________________________________________________________\n",
      "block11_sepconv1_bn (BatchNorma (None, 14, 14, 728)  2912        block11_sepconv1[0][0]           \n",
      "__________________________________________________________________________________________________\n",
      "block11_sepconv2_act (Activatio (None, 14, 14, 728)  0           block11_sepconv1_bn[0][0]        \n",
      "__________________________________________________________________________________________________\n",
      "block11_sepconv2 (SeparableConv (None, 14, 14, 728)  536536      block11_sepconv2_act[0][0]       \n",
      "__________________________________________________________________________________________________\n",
      "block11_sepconv2_bn (BatchNorma (None, 14, 14, 728)  2912        block11_sepconv2[0][0]           \n",
      "__________________________________________________________________________________________________\n",
      "block11_sepconv3_act (Activatio (None, 14, 14, 728)  0           block11_sepconv2_bn[0][0]        \n",
      "__________________________________________________________________________________________________\n",
      "block11_sepconv3 (SeparableConv (None, 14, 14, 728)  536536      block11_sepconv3_act[0][0]       \n",
      "__________________________________________________________________________________________________\n",
      "block11_sepconv3_bn (BatchNorma (None, 14, 14, 728)  2912        block11_sepconv3[0][0]           \n",
      "__________________________________________________________________________________________________\n",
      "add_9 (Add)                     (None, 14, 14, 728)  0           block11_sepconv3_bn[0][0]        \n",
      "                                                                 add_8[0][0]                      \n",
      "__________________________________________________________________________________________________\n",
      "block12_sepconv1_act (Activatio (None, 14, 14, 728)  0           add_9[0][0]                      \n",
      "__________________________________________________________________________________________________\n",
      "block12_sepconv1 (SeparableConv (None, 14, 14, 728)  536536      block12_sepconv1_act[0][0]       \n",
      "__________________________________________________________________________________________________\n",
      "block12_sepconv1_bn (BatchNorma (None, 14, 14, 728)  2912        block12_sepconv1[0][0]           \n",
      "__________________________________________________________________________________________________\n",
      "block12_sepconv2_act (Activatio (None, 14, 14, 728)  0           block12_sepconv1_bn[0][0]        \n",
      "__________________________________________________________________________________________________\n",
      "block12_sepconv2 (SeparableConv (None, 14, 14, 728)  536536      block12_sepconv2_act[0][0]       \n",
      "__________________________________________________________________________________________________\n",
      "block12_sepconv2_bn (BatchNorma (None, 14, 14, 728)  2912        block12_sepconv2[0][0]           \n",
      "__________________________________________________________________________________________________\n",
      "block12_sepconv3_act (Activatio (None, 14, 14, 728)  0           block12_sepconv2_bn[0][0]        \n",
      "__________________________________________________________________________________________________\n",
      "block12_sepconv3 (SeparableConv (None, 14, 14, 728)  536536      block12_sepconv3_act[0][0]       \n",
      "__________________________________________________________________________________________________\n",
      "block12_sepconv3_bn (BatchNorma (None, 14, 14, 728)  2912        block12_sepconv3[0][0]           \n",
      "__________________________________________________________________________________________________\n",
      "add_10 (Add)                    (None, 14, 14, 728)  0           block12_sepconv3_bn[0][0]        \n",
      "                                                                 add_9[0][0]                      \n",
      "__________________________________________________________________________________________________\n",
      "block13_sepconv1_act (Activatio (None, 14, 14, 728)  0           add_10[0][0]                     \n",
      "__________________________________________________________________________________________________\n",
      "block13_sepconv1 (SeparableConv (None, 14, 14, 728)  536536      block13_sepconv1_act[0][0]       \n",
      "__________________________________________________________________________________________________\n",
      "block13_sepconv1_bn (BatchNorma (None, 14, 14, 728)  2912        block13_sepconv1[0][0]           \n",
      "__________________________________________________________________________________________________\n",
      "block13_sepconv2_act (Activatio (None, 14, 14, 728)  0           block13_sepconv1_bn[0][0]        \n",
      "__________________________________________________________________________________________________\n",
      "block13_sepconv2 (SeparableConv (None, 14, 14, 1024) 752024      block13_sepconv2_act[0][0]       \n",
      "__________________________________________________________________________________________________\n",
      "block13_sepconv2_bn (BatchNorma (None, 14, 14, 1024) 4096        block13_sepconv2[0][0]           \n",
      "__________________________________________________________________________________________________\n",
      "conv2d_3 (Conv2D)               (None, 7, 7, 1024)   745472      add_10[0][0]                     \n",
      "__________________________________________________________________________________________________\n",
      "block13_pool (MaxPooling2D)     (None, 7, 7, 1024)   0           block13_sepconv2_bn[0][0]        \n",
      "__________________________________________________________________________________________________\n",
      "batch_normalization_3 (BatchNor (None, 7, 7, 1024)   4096        conv2d_3[0][0]                   \n",
      "__________________________________________________________________________________________________\n",
      "add_11 (Add)                    (None, 7, 7, 1024)   0           block13_pool[0][0]               \n",
      "                                                                 batch_normalization_3[0][0]      \n",
      "__________________________________________________________________________________________________\n",
      "block14_sepconv1 (SeparableConv (None, 7, 7, 1536)   1582080     add_11[0][0]                     \n",
      "__________________________________________________________________________________________________\n",
      "block14_sepconv1_bn (BatchNorma (None, 7, 7, 1536)   6144        block14_sepconv1[0][0]           \n",
      "__________________________________________________________________________________________________\n",
      "block14_sepconv1_act (Activatio (None, 7, 7, 1536)   0           block14_sepconv1_bn[0][0]        \n",
      "__________________________________________________________________________________________________\n",
      "block14_sepconv2 (SeparableConv (None, 7, 7, 2048)   3159552     block14_sepconv1_act[0][0]       \n",
      "__________________________________________________________________________________________________\n",
      "block14_sepconv2_bn (BatchNorma (None, 7, 7, 2048)   8192        block14_sepconv2[0][0]           \n",
      "__________________________________________________________________________________________________\n",
      "block14_sepconv2_act (Activatio (None, 7, 7, 2048)   0           block14_sepconv2_bn[0][0]        \n",
      "__________________________________________________________________________________________________\n",
      "global_average_pooling2d (Globa (None, 2048)         0           block14_sepconv2_act[0][0]       \n",
      "__________________________________________________________________________________________________\n",
      "flatten (Flatten)               (None, 2048)         0           global_average_pooling2d[0][0]   \n",
      "__________________________________________________________________________________________________\n",
      "dense (Dense)                   (None, 120)          245880      flatten[0][0]                    \n",
      "==================================================================================================\n",
      "Total params: 21,107,360\n",
      "Trainable params: 21,052,832\n",
      "Non-trainable params: 54,528\n",
      "__________________________________________________________________________________________________\n"
     ]
    }
   ],
   "source": [
    "model.summary()"
   ]
  },
  {
   "cell_type": "code",
   "execution_count": 14,
   "id": "quiet-attachment",
   "metadata": {
    "execution": {
     "iopub.execute_input": "2021-06-10T08:57:59.021173Z",
     "iopub.status.busy": "2021-06-10T08:57:59.020547Z",
     "iopub.status.idle": "2021-06-10T08:57:59.023252Z",
     "shell.execute_reply": "2021-06-10T08:57:59.022871Z",
     "shell.execute_reply.started": "2021-06-10T08:26:39.870190Z"
    },
    "papermill": {
     "duration": 0.031513,
     "end_time": "2021-06-10T08:57:59.023372",
     "exception": false,
     "start_time": "2021-06-10T08:57:58.991859",
     "status": "completed"
    },
    "tags": []
   },
   "outputs": [],
   "source": [
    "for layer in base_model.layers:\n",
    "    layer.trainable = False"
   ]
  },
  {
   "cell_type": "code",
   "execution_count": 15,
   "id": "yellow-bumper",
   "metadata": {
    "execution": {
     "iopub.execute_input": "2021-06-10T08:57:59.079354Z",
     "iopub.status.busy": "2021-06-10T08:57:59.078563Z",
     "iopub.status.idle": "2021-06-10T08:57:59.084713Z",
     "shell.execute_reply": "2021-06-10T08:57:59.085152Z",
     "shell.execute_reply.started": "2021-06-10T08:26:43.724978Z"
    },
    "papermill": {
     "duration": 0.039889,
     "end_time": "2021-06-10T08:57:59.085285",
     "exception": false,
     "start_time": "2021-06-10T08:57:59.045396",
     "status": "completed"
    },
    "tags": []
   },
   "outputs": [],
   "source": [
    "from tensorflow.keras.optimizers import Adam\n",
    "optimizer = Adam(lr = 0.0001)\n",
    "model.compile(loss = \"categorical_crossentropy\",optimizer = optimizer,metrics = ['accuracy'])\n",
    "epochs = 10\n",
    "batch_size = 32"
   ]
  },
  {
   "cell_type": "code",
   "execution_count": 16,
   "id": "endless-jewelry",
   "metadata": {
    "execution": {
     "iopub.execute_input": "2021-06-10T08:57:59.135396Z",
     "iopub.status.busy": "2021-06-10T08:57:59.134799Z",
     "iopub.status.idle": "2021-06-10T09:19:18.598850Z",
     "shell.execute_reply": "2021-06-10T09:19:18.599226Z",
     "shell.execute_reply.started": "2021-06-10T08:28:13.051473Z"
    },
    "papermill": {
     "duration": 1279.490929,
     "end_time": "2021-06-10T09:19:18.599420",
     "exception": false,
     "start_time": "2021-06-10T08:57:59.108491",
     "status": "completed"
    },
    "tags": []
   },
   "outputs": [
    {
     "name": "stdout",
     "output_type": "stream",
     "text": [
      "Epoch 1/10\n",
      "240/240 [==============================] - 161s 647ms/step - loss: 4.2483 - accuracy: 0.1683 - val_loss: 2.6184 - val_accuracy: 0.6313\n",
      "Epoch 2/10\n",
      "240/240 [==============================] - 124s 515ms/step - loss: 2.2351 - accuracy: 0.6856 - val_loss: 1.5963 - val_accuracy: 0.7276\n",
      "Epoch 3/10\n",
      "240/240 [==============================] - 124s 517ms/step - loss: 1.3981 - accuracy: 0.7590 - val_loss: 1.2149 - val_accuracy: 0.7495\n",
      "Epoch 4/10\n",
      "240/240 [==============================] - 124s 518ms/step - loss: 1.0680 - accuracy: 0.7901 - val_loss: 1.0484 - val_accuracy: 0.7566\n",
      "Epoch 5/10\n",
      "240/240 [==============================] - 124s 515ms/step - loss: 0.9053 - accuracy: 0.7956 - val_loss: 0.9627 - val_accuracy: 0.7632\n",
      "Epoch 6/10\n",
      "240/240 [==============================] - 125s 519ms/step - loss: 0.8099 - accuracy: 0.8059 - val_loss: 0.8923 - val_accuracy: 0.7706\n",
      "Epoch 7/10\n",
      "240/240 [==============================] - 124s 517ms/step - loss: 0.7700 - accuracy: 0.8055 - val_loss: 0.8505 - val_accuracy: 0.7722\n",
      "Epoch 8/10\n",
      "240/240 [==============================] - 124s 516ms/step - loss: 0.7022 - accuracy: 0.8195 - val_loss: 0.8316 - val_accuracy: 0.7738\n",
      "Epoch 9/10\n",
      "240/240 [==============================] - 124s 518ms/step - loss: 0.6836 - accuracy: 0.8260 - val_loss: 0.8046 - val_accuracy: 0.7750\n",
      "Epoch 10/10\n",
      "240/240 [==============================] - 125s 519ms/step - loss: 0.6352 - accuracy: 0.8333 - val_loss: 0.7979 - val_accuracy: 0.7777\n"
     ]
    }
   ],
   "source": [
    "history = model.fit(train_generator, epochs = epochs, validation_data = valid_generator)"
   ]
  },
  {
   "cell_type": "code",
   "execution_count": 17,
   "id": "thermal-offering",
   "metadata": {
    "execution": {
     "iopub.execute_input": "2021-06-10T09:19:20.611355Z",
     "iopub.status.busy": "2021-06-10T09:19:20.610481Z",
     "iopub.status.idle": "2021-06-10T09:19:20.835330Z",
     "shell.execute_reply": "2021-06-10T09:19:20.835724Z",
     "shell.execute_reply.started": "2021-06-10T08:51:16.350086Z"
    },
    "papermill": {
     "duration": 1.161529,
     "end_time": "2021-06-10T09:19:20.835859",
     "exception": false,
     "start_time": "2021-06-10T09:19:19.674330",
     "status": "completed"
    },
    "tags": []
   },
   "outputs": [
    {
     "data": {
      "image/png": "[encoded data removed]",
      "text/plain": [
       "<Figure size 864x288 with 2 Axes>"
      ]
     },
     "metadata": {
      "needs_background": "light"
     },
     "output_type": "display_data"
    }
   ],
   "source": [
    "fig , ax = plt.subplots(1,2)\n",
    "train_acc = history.history['accuracy']\n",
    "train_loss = history.history['loss']\n",
    "fig.set_size_inches(12,4)\n",
    "\n",
    "ax[0].plot(history.history['accuracy'])\n",
    "ax[0].plot(history.history['val_accuracy'])\n",
    "ax[0].set_title('Training Accuracy vs Validation Accuracy')\n",
    "ax[0].set_ylabel('Accuracy')\n",
    "ax[0].set_xlabel('Epoch')\n",
    "ax[0].legend(['Train', 'Validation'], loc='upper left')\n",
    "\n",
    "ax[1].plot(history.history['loss'])\n",
    "ax[1].plot(history.history['val_loss'])\n",
    "ax[1].set_title('Training Loss vs Validation Loss')\n",
    "ax[1].set_ylabel('Loss')\n",
    "ax[1].set_xlabel('Epoch')\n",
    "ax[1].legend(['Train', 'Validation'], loc='upper left')\n",
    "\n",
    "plt.show()"
   ]
  },
  {
   "cell_type": "code",
   "execution_count": 18,
   "id": "welcome-franchise",
   "metadata": {
    "execution": {
     "iopub.execute_input": "2021-06-10T09:19:22.095577Z",
     "iopub.status.busy": "2021-06-10T09:19:22.094259Z",
     "iopub.status.idle": "2021-06-10T09:21:27.534650Z",
     "shell.execute_reply": "2021-06-10T09:21:27.532227Z",
     "shell.execute_reply.started": "2021-06-10T08:52:28.565643Z"
    },
    "papermill": {
     "duration": 126.069129,
     "end_time": "2021-06-10T09:21:27.534826",
     "exception": false,
     "start_time": "2021-06-10T09:19:21.465697",
     "status": "completed"
    },
    "tags": []
   },
   "outputs": [
    {
     "name": "stdout",
     "output_type": "stream",
     "text": [
      "240/240 [==============================] - 93s 388ms/step - loss: 0.6017 - accuracy: 0.8389\n",
      "80/80 [==============================] - 31s 384ms/step - loss: 0.7808 - accuracy: 0.7773\n",
      "final train accuracy = 83.89 , validation accuracy = 77.73\n"
     ]
    }
   ],
   "source": [
    "train_loss, train_acc = model.evaluate(train_generator)\n",
    "test_loss, test_acc   = model.evaluate(valid_generator)\n",
    "print(\"final train accuracy = {:.2f} , validation accuracy = {:.2f}\".format(train_acc*100, test_acc*100))"
   ]
  }
 ],
 "metadata": {
  "kernelspec": {
   "display_name": "Python 3",
   "language": "python",
   "name": "python3"
  },
  "language_info": {
   "codemirror_mode": {
    "name": "ipython",
    "version": 3
   },
   "file_extension": ".py",
   "mimetype": "text/x-python",
   "name": "python",
   "nbconvert_exporter": "python",
   "pygments_lexer": "ipython3",
   "version": "3.7.10"
  },
  "papermill": {
   "default_parameters": {},
   "duration": 1439.18269,
   "end_time": "2021-06-10T09:21:30.605537",
   "environment_variables": {},
   "exception": null,
   "input_path": "__notebook__.ipynb",
   "output_path": "__notebook__.ipynb",
   "parameters": {},
   "start_time": "2021-06-10T08:57:31.422847",
   "version": "2.3.3"
  }
 },
 "nbformat": 4,
 "nbformat_minor": 5
}
