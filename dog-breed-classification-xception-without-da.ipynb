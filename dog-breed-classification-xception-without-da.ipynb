{
 "cells": [
  {
   "cell_type": "code",
   "execution_count": 1,
   "id": "british-synthesis",
   "metadata": {
    "_cell_guid": "b1076dfc-b9ad-4769-8c92-a6c4dae69d19",
    "_uuid": "8f2839f25d086af736a60e9eeb907d3b93b6e0e5",
    "execution": {
     "iopub.execute_input": "2021-06-11T08:33:05.687846Z",
     "iopub.status.busy": "2021-06-11T08:33:05.687199Z",
     "iopub.status.idle": "2021-06-11T08:33:06.358909Z",
     "shell.execute_reply": "2021-06-11T08:33:06.359332Z",
     "shell.execute_reply.started": "2021-06-10T07:34:33.247017Z"
    },
    "papermill": {
     "duration": 0.700266,
     "end_time": "2021-06-11T08:33:06.359590",
     "exception": false,
     "start_time": "2021-06-11T08:33:05.659324",
     "status": "completed"
    },
    "tags": []
   },
   "outputs": [
    {
     "name": "stdout",
     "output_type": "stream",
     "text": [
      "Fri Jun 11 08:33:06 2021       \r\n",
      "+-----------------------------------------------------------------------------+\r\n",
      "| NVIDIA-SMI 450.119.04   Driver Version: 450.119.04   CUDA Version: 11.0     |\r\n",
      "|-------------------------------+----------------------+----------------------+\r\n",
      "| GPU  Name        Persistence-M| Bus-Id        Disp.A | Volatile Uncorr. ECC |\r\n",
      "| Fan  Temp  Perf  Pwr:Usage/Cap|         Memory-Usage | GPU-Util  Compute M. |\r\n",
      "|                               |                      |               MIG M. |\r\n",
      "|===============================+======================+======================|\r\n",
      "|   0  Tesla P100-PCIE...  Off  | 00000000:00:04.0 Off |                    0 |\r\n",
      "| N/A   39C    P0    29W / 250W |      0MiB / 16280MiB |      0%      Default |\r\n",
      "|                               |                      |                  N/A |\r\n",
      "+-------------------------------+----------------------+----------------------+\r\n",
      "                                                                               \r\n",
      "+-----------------------------------------------------------------------------+\r\n",
      "| Processes:                                                                  |\r\n",
      "|  GPU   GI   CI        PID   Type   Process name                  GPU Memory |\r\n",
      "|        ID   ID                                                   Usage      |\r\n",
      "|=============================================================================|\r\n",
      "|  No running processes found                                                 |\r\n",
      "+-----------------------------------------------------------------------------+\r\n"
     ]
    }
   ],
   "source": [
    "# Printing CPU infos (CPU allocated : Tesla p-100)\n",
    "!nvidia-smi"
   ]
  },
  {
   "cell_type": "code",
   "execution_count": 2,
   "id": "celtic-commitment",
   "metadata": {
    "execution": {
     "iopub.execute_input": "2021-06-11T08:33:06.398526Z",
     "iopub.status.busy": "2021-06-11T08:33:06.397882Z",
     "iopub.status.idle": "2021-06-11T08:33:11.986650Z",
     "shell.execute_reply": "2021-06-11T08:33:11.985432Z",
     "shell.execute_reply.started": "2021-06-10T08:15:46.299991Z"
    },
    "papermill": {
     "duration": 5.610719,
     "end_time": "2021-06-11T08:33:11.986793",
     "exception": false,
     "start_time": "2021-06-11T08:33:06.376074",
     "status": "completed"
    },
    "tags": []
   },
   "outputs": [],
   "source": [
    "# Python ≥3.5 is required\n",
    "import sys\n",
    "assert sys.version_info >= (3, 5)\n",
    "\n",
    "# Is this notebook running on Colab or Kaggle?\n",
    "IS_COLAB = \"google.colab\" in sys.modules\n",
    "IS_KAGGLE = \"kaggle_secrets\" in sys.modules\n",
    "\n",
    "# Scikit-Learn ≥0.20 is required\n",
    "import sklearn\n",
    "assert sklearn.__version__ >= \"0.20\"\n",
    "\n",
    "# TensorFlow ≥2.0 is required\n",
    "import tensorflow as tf\n",
    "import keras\n",
    "assert tf.__version__ >= \"2.0\"\n",
    "\n",
    "if not tf.config.list_physical_devices('GPU'):\n",
    "    print(\"No GPU was detected. CNNs can be very slow without a GPU.\")\n",
    "    if IS_COLAB:\n",
    "        print(\"Go to Runtime > Change runtime and select a GPU hardware accelerator.\")\n",
    "    if IS_KAGGLE:\n",
    "        print(\"Go to Settings > Accelerator and select GPU.\")\n",
    "\n",
    "# Common imports\n",
    "import numpy as np\n",
    "import pandas as pd\n",
    "import seaborn as sns\n",
    "import os\n",
    "from keras.preprocessing.image import img_to_array, load_img, ImageDataGenerator"
   ]
  },
  {
   "cell_type": "code",
   "execution_count": 3,
   "id": "prepared-statistics",
   "metadata": {
    "execution": {
     "iopub.execute_input": "2021-06-11T08:33:12.030739Z",
     "iopub.status.busy": "2021-06-11T08:33:12.030186Z",
     "iopub.status.idle": "2021-06-11T08:33:12.032711Z",
     "shell.execute_reply": "2021-06-11T08:33:12.033105Z",
     "shell.execute_reply.started": "2021-06-10T07:50:20.719623Z"
    },
    "papermill": {
     "duration": 0.030394,
     "end_time": "2021-06-11T08:33:12.033225",
     "exception": false,
     "start_time": "2021-06-11T08:33:12.002831",
     "status": "completed"
    },
    "tags": []
   },
   "outputs": [],
   "source": [
    "# to make this notebook's output stable across runs\n",
    "np.random.seed(42)\n",
    "tf.random.set_seed(42)\n",
    "\n",
    "# To plot pretty figures\n",
    "%matplotlib inline\n",
    "import matplotlib as mpl\n",
    "import matplotlib.pyplot as plt\n",
    "mpl.rc('axes', labelsize=14)\n",
    "mpl.rc('xtick', labelsize=12)\n",
    "mpl.rc('ytick', labelsize=12)\n",
    "\n",
    "# Where to save the figures\n",
    "PROJECT_ROOT_DIR = \".\"\n",
    "CHAPTER_ID = \"cnn\"\n",
    "IMAGES_PATH = os.path.join(PROJECT_ROOT_DIR, \"images\", CHAPTER_ID)\n",
    "os.makedirs(IMAGES_PATH, exist_ok=True)\n",
    "\n",
    "# Function to save figures\n",
    "def save_fig(fig_id, tight_layout=True, fig_extension=\"jpg\", resolution=300):\n",
    "    path = os.path.join(IMAGES_PATH, fig_id + \".\" + fig_extension)\n",
    "    print(\"Saving figure\", fig_id)\n",
    "    if tight_layout:\n",
    "        plt.tight_layout()\n",
    "    plt.savefig(path, format=fig_extension, dpi=resolution)"
   ]
  },
  {
   "cell_type": "code",
   "execution_count": 4,
   "id": "jewish-mexico",
   "metadata": {
    "execution": {
     "iopub.execute_input": "2021-06-11T08:33:12.069280Z",
     "iopub.status.busy": "2021-06-11T08:33:12.068602Z",
     "iopub.status.idle": "2021-06-11T08:33:12.070957Z",
     "shell.execute_reply": "2021-06-11T08:33:12.071386Z",
     "shell.execute_reply.started": "2021-06-10T07:50:26.460693Z"
    },
    "papermill": {
     "duration": 0.022204,
     "end_time": "2021-06-11T08:33:12.071511",
     "exception": false,
     "start_time": "2021-06-11T08:33:12.049307",
     "status": "completed"
    },
    "tags": []
   },
   "outputs": [],
   "source": [
    "def plot_image(image):\n",
    "    plt.imshow(image, cmap=\"gray\", interpolation=\"nearest\")\n",
    "    plt.axis(\"off\")\n",
    "\n",
    "def plot_color_image(image):\n",
    "    plt.imshow(image, interpolation=\"nearest\")\n",
    "    plt.axis(\"off\")"
   ]
  },
  {
   "cell_type": "markdown",
   "id": "backed-northwest",
   "metadata": {
    "papermill": {
     "duration": 0.015626,
     "end_time": "2021-06-11T08:33:12.102985",
     "exception": false,
     "start_time": "2021-06-11T08:33:12.087359",
     "status": "completed"
    },
    "tags": []
   },
   "source": [
    "# Part 1 - Import Dataset"
   ]
  },
  {
   "cell_type": "code",
   "execution_count": 5,
   "id": "narrow-communist",
   "metadata": {
    "execution": {
     "iopub.execute_input": "2021-06-11T08:33:12.139421Z",
     "iopub.status.busy": "2021-06-11T08:33:12.138900Z",
     "iopub.status.idle": "2021-06-11T08:33:12.166936Z",
     "shell.execute_reply": "2021-06-11T08:33:12.166019Z",
     "shell.execute_reply.started": "2021-06-10T07:50:31.260616Z"
    },
    "papermill": {
     "duration": 0.048255,
     "end_time": "2021-06-11T08:33:12.167062",
     "exception": false,
     "start_time": "2021-06-11T08:33:12.118807",
     "status": "completed"
    },
    "tags": []
   },
   "outputs": [],
   "source": [
    "# Import the dataset from the input folder\n",
    "df = pd.read_csv('../input/dog-breed-identification/labels.csv')"
   ]
  },
  {
   "cell_type": "code",
   "execution_count": 6,
   "id": "outdoor-electric",
   "metadata": {
    "execution": {
     "iopub.execute_input": "2021-06-11T08:33:12.211743Z",
     "iopub.status.busy": "2021-06-11T08:33:12.211106Z",
     "iopub.status.idle": "2021-06-11T08:33:12.218068Z",
     "shell.execute_reply": "2021-06-11T08:33:12.218491Z",
     "shell.execute_reply.started": "2021-06-10T07:50:34.358566Z"
    },
    "papermill": {
     "duration": 0.035958,
     "end_time": "2021-06-11T08:33:12.218608",
     "exception": false,
     "start_time": "2021-06-11T08:33:12.182650",
     "status": "completed"
    },
    "tags": []
   },
   "outputs": [
    {
     "data": {
      "text/html": [
       "<div>\n",
       "<style scoped>\n",
       "    .dataframe tbody tr th:only-of-type {\n",
       "        vertical-align: middle;\n",
       "    }\n",
       "\n",
       "    .dataframe tbody tr th {\n",
       "        vertical-align: top;\n",
       "    }\n",
       "\n",
       "    .dataframe thead th {\n",
       "        text-align: right;\n",
       "    }\n",
       "</style>\n",
       "<table border=\"1\" class=\"dataframe\">\n",
       "  <thead>\n",
       "    <tr style=\"text-align: right;\">\n",
       "      <th></th>\n",
       "      <th>id</th>\n",
       "      <th>breed</th>\n",
       "    </tr>\n",
       "  </thead>\n",
       "  <tbody>\n",
       "    <tr>\n",
       "      <th>0</th>\n",
       "      <td>000bec180eb18c7604dcecc8fe0dba07</td>\n",
       "      <td>boston_bull</td>\n",
       "    </tr>\n",
       "    <tr>\n",
       "      <th>1</th>\n",
       "      <td>001513dfcb2ffafc82cccf4d8bbaba97</td>\n",
       "      <td>dingo</td>\n",
       "    </tr>\n",
       "    <tr>\n",
       "      <th>2</th>\n",
       "      <td>001cdf01b096e06d78e9e5112d419397</td>\n",
       "      <td>pekinese</td>\n",
       "    </tr>\n",
       "    <tr>\n",
       "      <th>3</th>\n",
       "      <td>00214f311d5d2247d5dfe4fe24b2303d</td>\n",
       "      <td>bluetick</td>\n",
       "    </tr>\n",
       "    <tr>\n",
       "      <th>4</th>\n",
       "      <td>0021f9ceb3235effd7fcde7f7538ed62</td>\n",
       "      <td>golden_retriever</td>\n",
       "    </tr>\n",
       "  </tbody>\n",
       "</table>\n",
       "</div>"
      ],
      "text/plain": [
       "                                 id             breed\n",
       "0  000bec180eb18c7604dcecc8fe0dba07       boston_bull\n",
       "1  001513dfcb2ffafc82cccf4d8bbaba97             dingo\n",
       "2  001cdf01b096e06d78e9e5112d419397          pekinese\n",
       "3  00214f311d5d2247d5dfe4fe24b2303d          bluetick\n",
       "4  0021f9ceb3235effd7fcde7f7538ed62  golden_retriever"
      ]
     },
     "execution_count": 6,
     "metadata": {},
     "output_type": "execute_result"
    }
   ],
   "source": [
    "df.head()"
   ]
  },
  {
   "cell_type": "markdown",
   "id": "apart-ridge",
   "metadata": {
    "papermill": {
     "duration": 0.015814,
     "end_time": "2021-06-11T08:33:12.250174",
     "exception": false,
     "start_time": "2021-06-11T08:33:12.234360",
     "status": "completed"
    },
    "tags": []
   },
   "source": [
    "Let's add a new column in this dataframe with the path of each dog image.\n"
   ]
  },
  {
   "cell_type": "code",
   "execution_count": 7,
   "id": "binding-corrections",
   "metadata": {
    "execution": {
     "iopub.execute_input": "2021-06-11T08:33:12.289263Z",
     "iopub.status.busy": "2021-06-11T08:33:12.288530Z",
     "iopub.status.idle": "2021-06-11T08:33:12.307297Z",
     "shell.execute_reply": "2021-06-11T08:33:12.306872Z",
     "shell.execute_reply.started": "2021-06-10T07:50:40.00711Z"
    },
    "papermill": {
     "duration": 0.041184,
     "end_time": "2021-06-11T08:33:12.307398",
     "exception": false,
     "start_time": "2021-06-11T08:33:12.266214",
     "status": "completed"
    },
    "tags": []
   },
   "outputs": [],
   "source": [
    "# Path to the train folder containing all the images\n",
    "IMG_TRAIN_PATH = \"/kaggle/input/dog-breed-identification/train/\"\n",
    "\n",
    "# Path to the test folder containing all the test images\n",
    "IMG_TEST_PATH = \"/kaggle/input/dog-breed-identification/test/\"\n",
    "\n",
    "# Creating the new dataframe column \"img_path\"\n",
    "df = df.assign(img_path = lambda x: IMG_TRAIN_PATH + x['id'] + '.jpg')"
   ]
  },
  {
   "cell_type": "code",
   "execution_count": 8,
   "id": "incident-think",
   "metadata": {
    "execution": {
     "iopub.execute_input": "2021-06-11T08:33:12.348127Z",
     "iopub.status.busy": "2021-06-11T08:33:12.347413Z",
     "iopub.status.idle": "2021-06-11T08:33:12.351982Z",
     "shell.execute_reply": "2021-06-11T08:33:12.351554Z",
     "shell.execute_reply.started": "2021-06-10T07:50:45.793443Z"
    },
    "papermill": {
     "duration": 0.028161,
     "end_time": "2021-06-11T08:33:12.352088",
     "exception": false,
     "start_time": "2021-06-11T08:33:12.323927",
     "status": "completed"
    },
    "tags": []
   },
   "outputs": [
    {
     "data": {
      "text/html": [
       "<div>\n",
       "<style scoped>\n",
       "    .dataframe tbody tr th:only-of-type {\n",
       "        vertical-align: middle;\n",
       "    }\n",
       "\n",
       "    .dataframe tbody tr th {\n",
       "        vertical-align: top;\n",
       "    }\n",
       "\n",
       "    .dataframe thead th {\n",
       "        text-align: right;\n",
       "    }\n",
       "</style>\n",
       "<table border=\"1\" class=\"dataframe\">\n",
       "  <thead>\n",
       "    <tr style=\"text-align: right;\">\n",
       "      <th></th>\n",
       "      <th>id</th>\n",
       "      <th>breed</th>\n",
       "      <th>img_path</th>\n",
       "    </tr>\n",
       "  </thead>\n",
       "  <tbody>\n",
       "    <tr>\n",
       "      <th>0</th>\n",
       "      <td>000bec180eb18c7604dcecc8fe0dba07</td>\n",
       "      <td>boston_bull</td>\n",
       "      <td>/kaggle/input/dog-breed-identification/train/0...</td>\n",
       "    </tr>\n",
       "    <tr>\n",
       "      <th>1</th>\n",
       "      <td>001513dfcb2ffafc82cccf4d8bbaba97</td>\n",
       "      <td>dingo</td>\n",
       "      <td>/kaggle/input/dog-breed-identification/train/0...</td>\n",
       "    </tr>\n",
       "    <tr>\n",
       "      <th>2</th>\n",
       "      <td>001cdf01b096e06d78e9e5112d419397</td>\n",
       "      <td>pekinese</td>\n",
       "      <td>/kaggle/input/dog-breed-identification/train/0...</td>\n",
       "    </tr>\n",
       "    <tr>\n",
       "      <th>3</th>\n",
       "      <td>00214f311d5d2247d5dfe4fe24b2303d</td>\n",
       "      <td>bluetick</td>\n",
       "      <td>/kaggle/input/dog-breed-identification/train/0...</td>\n",
       "    </tr>\n",
       "    <tr>\n",
       "      <th>4</th>\n",
       "      <td>0021f9ceb3235effd7fcde7f7538ed62</td>\n",
       "      <td>golden_retriever</td>\n",
       "      <td>/kaggle/input/dog-breed-identification/train/0...</td>\n",
       "    </tr>\n",
       "  </tbody>\n",
       "</table>\n",
       "</div>"
      ],
      "text/plain": [
       "                                 id             breed  \\\n",
       "0  000bec180eb18c7604dcecc8fe0dba07       boston_bull   \n",
       "1  001513dfcb2ffafc82cccf4d8bbaba97             dingo   \n",
       "2  001cdf01b096e06d78e9e5112d419397          pekinese   \n",
       "3  00214f311d5d2247d5dfe4fe24b2303d          bluetick   \n",
       "4  0021f9ceb3235effd7fcde7f7538ed62  golden_retriever   \n",
       "\n",
       "                                            img_path  \n",
       "0  /kaggle/input/dog-breed-identification/train/0...  \n",
       "1  /kaggle/input/dog-breed-identification/train/0...  \n",
       "2  /kaggle/input/dog-breed-identification/train/0...  \n",
       "3  /kaggle/input/dog-breed-identification/train/0...  \n",
       "4  /kaggle/input/dog-breed-identification/train/0...  "
      ]
     },
     "execution_count": 8,
     "metadata": {},
     "output_type": "execute_result"
    }
   ],
   "source": [
    "df.head()"
   ]
  },
  {
   "cell_type": "markdown",
   "id": "peripheral-poultry",
   "metadata": {
    "papermill": {
     "duration": 0.016087,
     "end_time": "2021-06-11T08:33:12.384548",
     "exception": false,
     "start_time": "2021-06-11T08:33:12.368461",
     "status": "completed"
    },
    "tags": []
   },
   "source": [
    "# Part 2 - Image preprocessing (Data augmentation)"
   ]
  },
  {
   "cell_type": "markdown",
   "id": "arbitrary-customs",
   "metadata": {
    "papermill": {
     "duration": 0.016496,
     "end_time": "2021-06-11T08:33:12.417498",
     "exception": false,
     "start_time": "2021-06-11T08:33:12.401002",
     "status": "completed"
    },
    "tags": []
   },
   "source": [
    "## Preprocessing the training set"
   ]
  },
  {
   "cell_type": "code",
   "execution_count": 9,
   "id": "equal-fancy",
   "metadata": {
    "execution": {
     "iopub.execute_input": "2021-06-11T08:33:12.456599Z",
     "iopub.status.busy": "2021-06-11T08:33:12.455600Z",
     "iopub.status.idle": "2021-06-11T08:33:12.458335Z",
     "shell.execute_reply": "2021-06-11T08:33:12.457927Z",
     "shell.execute_reply.started": "2021-06-10T08:11:57.388705Z"
    },
    "papermill": {
     "duration": 0.023625,
     "end_time": "2021-06-11T08:33:12.458441",
     "exception": false,
     "start_time": "2021-06-11T08:33:12.434816",
     "status": "completed"
    },
    "tags": []
   },
   "outputs": [],
   "source": [
    "# Applying transformation to all the images of the training set to avoid overfitting\n",
    "train_datagen = ImageDataGenerator(\n",
    "    rescale = 1./255, # rescaling factor. Defaults to None. If None or 0, no rescaling is applied \n",
    "    validation_split = 0.25\n",
    ")"
   ]
  },
  {
   "cell_type": "markdown",
   "id": "brave-stake",
   "metadata": {
    "papermill": {
     "duration": 0.017356,
     "end_time": "2021-06-11T08:33:12.493469",
     "exception": false,
     "start_time": "2021-06-11T08:33:12.476113",
     "status": "completed"
    },
    "tags": []
   },
   "source": [
    "## Preprocessing the testing set"
   ]
  },
  {
   "cell_type": "code",
   "execution_count": 10,
   "id": "liberal-ladder",
   "metadata": {
    "execution": {
     "iopub.execute_input": "2021-06-11T08:33:12.532021Z",
     "iopub.status.busy": "2021-06-11T08:33:12.531377Z",
     "iopub.status.idle": "2021-06-11T08:33:12.533706Z",
     "shell.execute_reply": "2021-06-11T08:33:12.534109Z",
     "shell.execute_reply.started": "2021-06-10T08:12:00.21194Z"
    },
    "papermill": {
     "duration": 0.022938,
     "end_time": "2021-06-11T08:33:12.534236",
     "exception": false,
     "start_time": "2021-06-11T08:33:12.511298",
     "status": "completed"
    },
    "tags": []
   },
   "outputs": [],
   "source": [
    "test_datagen = ImageDataGenerator(\n",
    "    rescale = 1./255\n",
    ")"
   ]
  },
  {
   "cell_type": "markdown",
   "id": "brutal-ottawa",
   "metadata": {
    "papermill": {
     "duration": 0.016291,
     "end_time": "2021-06-11T08:33:12.567159",
     "exception": false,
     "start_time": "2021-06-11T08:33:12.550868",
     "status": "completed"
    },
    "tags": []
   },
   "source": [
    "# Part 3 - Splitting the dataset into the training set and the testing set"
   ]
  },
  {
   "cell_type": "code",
   "execution_count": 11,
   "id": "simplified-shannon",
   "metadata": {
    "execution": {
     "iopub.execute_input": "2021-06-11T08:33:12.605993Z",
     "iopub.status.busy": "2021-06-11T08:33:12.605148Z",
     "iopub.status.idle": "2021-06-11T08:33:22.095336Z",
     "shell.execute_reply": "2021-06-11T08:33:22.095728Z",
     "shell.execute_reply.started": "2021-06-10T08:12:06.342406Z"
    },
    "papermill": {
     "duration": 9.512388,
     "end_time": "2021-06-11T08:33:22.095883",
     "exception": false,
     "start_time": "2021-06-11T08:33:12.583495",
     "status": "completed"
    },
    "tags": []
   },
   "outputs": [
    {
     "name": "stdout",
     "output_type": "stream",
     "text": [
      "Found 7667 validated image filenames belonging to 120 classes.\n",
      "Found 2555 validated image filenames belonging to 120 classes.\n"
     ]
    }
   ],
   "source": [
    "train_generator = train_datagen.flow_from_dataframe(\n",
    "    dataframe = df,\n",
    "    directory=\"../input/dog-breed-identification/\",\n",
    "    x_col=\"img_path\",\n",
    "    y_col=\"breed\",\n",
    "    subset=\"training\",\n",
    "    batch_size=32,\n",
    "    seed=42,\n",
    "    shuffle=True,\n",
    "    class_mode=\"categorical\",\n",
    "    target_size=(224,224)\n",
    ")\n",
    "\n",
    "valid_generator = train_datagen.flow_from_dataframe(\n",
    "    dataframe=df,\n",
    "    directory=\"../input/dog-breed-identification/\",\n",
    "    x_col=\"img_path\",\n",
    "    y_col=\"breed\",\n",
    "    subset=\"validation\",\n",
    "    batch_size=32,\n",
    "    seed=42,\n",
    "    shuffle=True,\n",
    "    class_mode=\"categorical\",\n",
    "    target_size=(224,224)\n",
    ")"
   ]
  },
  {
   "cell_type": "markdown",
   "id": "boolean-musician",
   "metadata": {
    "papermill": {
     "duration": 0.01701,
     "end_time": "2021-06-11T08:33:22.130411",
     "exception": false,
     "start_time": "2021-06-11T08:33:22.113401",
     "status": "completed"
    },
    "tags": []
   },
   "source": [
    "# Part 4 - Neural network model"
   ]
  },
  {
   "cell_type": "code",
   "execution_count": 12,
   "id": "prompt-spectrum",
   "metadata": {
    "execution": {
     "iopub.execute_input": "2021-06-11T08:33:22.172094Z",
     "iopub.status.busy": "2021-06-11T08:33:22.171502Z",
     "iopub.status.idle": "2021-06-11T08:33:27.267112Z",
     "shell.execute_reply": "2021-06-11T08:33:27.266150Z",
     "shell.execute_reply.started": "2021-06-10T08:21:04.245689Z"
    },
    "papermill": {
     "duration": 5.119863,
     "end_time": "2021-06-11T08:33:27.267278",
     "exception": false,
     "start_time": "2021-06-11T08:33:22.147415",
     "status": "completed"
    },
    "tags": []
   },
   "outputs": [
    {
     "name": "stdout",
     "output_type": "stream",
     "text": [
      "Downloading data from https://storage.googleapis.com/tensorflow/keras-applications/xception/xception_weights_tf_dim_ordering_tf_kernels_notop.h5\n",
      "83689472/83683744 [==============================] - 2s 0us/step\n"
     ]
    }
   ],
   "source": [
    "base_model = keras.applications.xception.Xception(weights=\"imagenet\",include_top=False, input_shape=(224,224,3))\n",
    "avg = keras.layers.GlobalAveragePooling2D()(base_model.output)\n",
    "flat = keras.layers.Flatten()(avg)\n",
    "output = keras.layers.Dense(120, activation=\"softmax\")(flat)\n",
    "model = keras.Model(inputs=base_model.input, outputs=output)"
   ]
  },
  {
   "cell_type": "code",
   "execution_count": 13,
   "id": "political-intersection",
   "metadata": {
    "execution": {
     "iopub.execute_input": "2021-06-11T08:33:27.320295Z",
     "iopub.status.busy": "2021-06-11T08:33:27.313548Z",
     "iopub.status.idle": "2021-06-11T08:33:27.381968Z",
     "shell.execute_reply": "2021-06-11T08:33:27.382774Z",
     "shell.execute_reply.started": "2021-06-10T08:21:07.640869Z"
    },
    "papermill": {
     "duration": 0.095393,
     "end_time": "2021-06-11T08:33:27.382982",
     "exception": false,
     "start_time": "2021-06-11T08:33:27.287589",
     "status": "completed"
    },
    "tags": []
   },
   "outputs": [
    {
     "name": "stdout",
     "output_type": "stream",
     "text": [
      "Model: \"model\"\n",
      "__________________________________________________________________________________________________\n",
      "Layer (type)                    Output Shape         Param #     Connected to                     \n",
      "==================================================================================================\n",
      "input_1 (InputLayer)            [(None, 224, 224, 3) 0                                            \n",
      "__________________________________________________________________________________________________\n",
      "block1_conv1 (Conv2D)           (None, 111, 111, 32) 864         input_1[0][0]                    \n",
      "__________________________________________________________________________________________________\n",
      "block1_conv1_bn (BatchNormaliza (None, 111, 111, 32) 128         block1_conv1[0][0]               \n",
      "__________________________________________________________________________________________________\n",
      "block1_conv1_act (Activation)   (None, 111, 111, 32) 0           block1_conv1_bn[0][0]            \n",
      "__________________________________________________________________________________________________\n",
      "block1_conv2 (Conv2D)           (None, 109, 109, 64) 18432       block1_conv1_act[0][0]           \n",
      "__________________________________________________________________________________________________\n",
      "block1_conv2_bn (BatchNormaliza (None, 109, 109, 64) 256         block1_conv2[0][0]               \n",
      "__________________________________________________________________________________________________\n",
      "block1_conv2_act (Activation)   (None, 109, 109, 64) 0           block1_conv2_bn[0][0]            \n",
      "__________________________________________________________________________________________________\n",
      "block2_sepconv1 (SeparableConv2 (None, 109, 109, 128 8768        block1_conv2_act[0][0]           \n",
      "__________________________________________________________________________________________________\n",
      "block2_sepconv1_bn (BatchNormal (None, 109, 109, 128 512         block2_sepconv1[0][0]            \n",
      "__________________________________________________________________________________________________\n",
      "block2_sepconv2_act (Activation (None, 109, 109, 128 0           block2_sepconv1_bn[0][0]         \n",
      "__________________________________________________________________________________________________\n",
      "block2_sepconv2 (SeparableConv2 (None, 109, 109, 128 17536       block2_sepconv2_act[0][0]        \n",
      "__________________________________________________________________________________________________\n",
      "block2_sepconv2_bn (BatchNormal (None, 109, 109, 128 512         block2_sepconv2[0][0]            \n",
      "__________________________________________________________________________________________________\n",
      "conv2d (Conv2D)                 (None, 55, 55, 128)  8192        block1_conv2_act[0][0]           \n",
      "__________________________________________________________________________________________________\n",
      "block2_pool (MaxPooling2D)      (None, 55, 55, 128)  0           block2_sepconv2_bn[0][0]         \n",
      "__________________________________________________________________________________________________\n",
      "batch_normalization (BatchNorma (None, 55, 55, 128)  512         conv2d[0][0]                     \n",
      "__________________________________________________________________________________________________\n",
      "add (Add)                       (None, 55, 55, 128)  0           block2_pool[0][0]                \n",
      "                                                                 batch_normalization[0][0]        \n",
      "__________________________________________________________________________________________________\n",
      "block3_sepconv1_act (Activation (None, 55, 55, 128)  0           add[0][0]                        \n",
      "__________________________________________________________________________________________________\n",
      "block3_sepconv1 (SeparableConv2 (None, 55, 55, 256)  33920       block3_sepconv1_act[0][0]        \n",
      "__________________________________________________________________________________________________\n",
      "block3_sepconv1_bn (BatchNormal (None, 55, 55, 256)  1024        block3_sepconv1[0][0]            \n",
      "__________________________________________________________________________________________________\n",
      "block3_sepconv2_act (Activation (None, 55, 55, 256)  0           block3_sepconv1_bn[0][0]         \n",
      "__________________________________________________________________________________________________\n",
      "block3_sepconv2 (SeparableConv2 (None, 55, 55, 256)  67840       block3_sepconv2_act[0][0]        \n",
      "__________________________________________________________________________________________________\n",
      "block3_sepconv2_bn (BatchNormal (None, 55, 55, 256)  1024        block3_sepconv2[0][0]            \n",
      "__________________________________________________________________________________________________\n",
      "conv2d_1 (Conv2D)               (None, 28, 28, 256)  32768       add[0][0]                        \n",
      "__________________________________________________________________________________________________\n",
      "block3_pool (MaxPooling2D)      (None, 28, 28, 256)  0           block3_sepconv2_bn[0][0]         \n",
      "__________________________________________________________________________________________________\n",
      "batch_normalization_1 (BatchNor (None, 28, 28, 256)  1024        conv2d_1[0][0]                   \n",
      "__________________________________________________________________________________________________\n",
      "add_1 (Add)                     (None, 28, 28, 256)  0           block3_pool[0][0]                \n",
      "                                                                 batch_normalization_1[0][0]      \n",
      "__________________________________________________________________________________________________\n",
      "block4_sepconv1_act (Activation (None, 28, 28, 256)  0           add_1[0][0]                      \n",
      "__________________________________________________________________________________________________\n",
      "block4_sepconv1 (SeparableConv2 (None, 28, 28, 728)  188672      block4_sepconv1_act[0][0]        \n",
      "__________________________________________________________________________________________________\n",
      "block4_sepconv1_bn (BatchNormal (None, 28, 28, 728)  2912        block4_sepconv1[0][0]            \n",
      "__________________________________________________________________________________________________\n",
      "block4_sepconv2_act (Activation (None, 28, 28, 728)  0           block4_sepconv1_bn[0][0]         \n",
      "__________________________________________________________________________________________________\n",
      "block4_sepconv2 (SeparableConv2 (None, 28, 28, 728)  536536      block4_sepconv2_act[0][0]        \n",
      "__________________________________________________________________________________________________\n",
      "block4_sepconv2_bn (BatchNormal (None, 28, 28, 728)  2912        block4_sepconv2[0][0]            \n",
      "__________________________________________________________________________________________________\n",
      "conv2d_2 (Conv2D)               (None, 14, 14, 728)  186368      add_1[0][0]                      \n",
      "__________________________________________________________________________________________________\n",
      "block4_pool (MaxPooling2D)      (None, 14, 14, 728)  0           block4_sepconv2_bn[0][0]         \n",
      "__________________________________________________________________________________________________\n",
      "batch_normalization_2 (BatchNor (None, 14, 14, 728)  2912        conv2d_2[0][0]                   \n",
      "__________________________________________________________________________________________________\n",
      "add_2 (Add)                     (None, 14, 14, 728)  0           block4_pool[0][0]                \n",
      "                                                                 batch_normalization_2[0][0]      \n",
      "__________________________________________________________________________________________________\n",
      "block5_sepconv1_act (Activation (None, 14, 14, 728)  0           add_2[0][0]                      \n",
      "__________________________________________________________________________________________________\n",
      "block5_sepconv1 (SeparableConv2 (None, 14, 14, 728)  536536      block5_sepconv1_act[0][0]        \n",
      "__________________________________________________________________________________________________\n",
      "block5_sepconv1_bn (BatchNormal (None, 14, 14, 728)  2912        block5_sepconv1[0][0]            \n",
      "__________________________________________________________________________________________________\n",
      "block5_sepconv2_act (Activation (None, 14, 14, 728)  0           block5_sepconv1_bn[0][0]         \n",
      "__________________________________________________________________________________________________\n",
      "block5_sepconv2 (SeparableConv2 (None, 14, 14, 728)  536536      block5_sepconv2_act[0][0]        \n",
      "__________________________________________________________________________________________________\n",
      "block5_sepconv2_bn (BatchNormal (None, 14, 14, 728)  2912        block5_sepconv2[0][0]            \n",
      "__________________________________________________________________________________________________\n",
      "block5_sepconv3_act (Activation (None, 14, 14, 728)  0           block5_sepconv2_bn[0][0]         \n",
      "__________________________________________________________________________________________________\n",
      "block5_sepconv3 (SeparableConv2 (None, 14, 14, 728)  536536      block5_sepconv3_act[0][0]        \n",
      "__________________________________________________________________________________________________\n",
      "block5_sepconv3_bn (BatchNormal (None, 14, 14, 728)  2912        block5_sepconv3[0][0]            \n",
      "__________________________________________________________________________________________________\n",
      "add_3 (Add)                     (None, 14, 14, 728)  0           block5_sepconv3_bn[0][0]         \n",
      "                                                                 add_2[0][0]                      \n",
      "__________________________________________________________________________________________________\n",
      "block6_sepconv1_act (Activation (None, 14, 14, 728)  0           add_3[0][0]                      \n",
      "__________________________________________________________________________________________________\n",
      "block6_sepconv1 (SeparableConv2 (None, 14, 14, 728)  536536      block6_sepconv1_act[0][0]        \n",
      "__________________________________________________________________________________________________\n",
      "block6_sepconv1_bn (BatchNormal (None, 14, 14, 728)  2912        block6_sepconv1[0][0]            \n",
      "__________________________________________________________________________________________________\n",
      "block6_sepconv2_act (Activation (None, 14, 14, 728)  0           block6_sepconv1_bn[0][0]         \n",
      "__________________________________________________________________________________________________\n",
      "block6_sepconv2 (SeparableConv2 (None, 14, 14, 728)  536536      block6_sepconv2_act[0][0]        \n",
      "__________________________________________________________________________________________________\n",
      "block6_sepconv2_bn (BatchNormal (None, 14, 14, 728)  2912        block6_sepconv2[0][0]            \n",
      "__________________________________________________________________________________________________\n",
      "block6_sepconv3_act (Activation (None, 14, 14, 728)  0           block6_sepconv2_bn[0][0]         \n",
      "__________________________________________________________________________________________________\n",
      "block6_sepconv3 (SeparableConv2 (None, 14, 14, 728)  536536      block6_sepconv3_act[0][0]        \n",
      "__________________________________________________________________________________________________\n",
      "block6_sepconv3_bn (BatchNormal (None, 14, 14, 728)  2912        block6_sepconv3[0][0]            \n",
      "__________________________________________________________________________________________________\n",
      "add_4 (Add)                     (None, 14, 14, 728)  0           block6_sepconv3_bn[0][0]         \n",
      "                                                                 add_3[0][0]                      \n",
      "__________________________________________________________________________________________________\n",
      "block7_sepconv1_act (Activation (None, 14, 14, 728)  0           add_4[0][0]                      \n",
      "__________________________________________________________________________________________________\n",
      "block7_sepconv1 (SeparableConv2 (None, 14, 14, 728)  536536      block7_sepconv1_act[0][0]        \n",
      "__________________________________________________________________________________________________\n",
      "block7_sepconv1_bn (BatchNormal (None, 14, 14, 728)  2912        block7_sepconv1[0][0]            \n",
      "__________________________________________________________________________________________________\n",
      "block7_sepconv2_act (Activation (None, 14, 14, 728)  0           block7_sepconv1_bn[0][0]         \n",
      "__________________________________________________________________________________________________\n",
      "block7_sepconv2 (SeparableConv2 (None, 14, 14, 728)  536536      block7_sepconv2_act[0][0]        \n",
      "__________________________________________________________________________________________________\n",
      "block7_sepconv2_bn (BatchNormal (None, 14, 14, 728)  2912        block7_sepconv2[0][0]            \n",
      "__________________________________________________________________________________________________\n",
      "block7_sepconv3_act (Activation (None, 14, 14, 728)  0           block7_sepconv2_bn[0][0]         \n",
      "__________________________________________________________________________________________________\n",
      "block7_sepconv3 (SeparableConv2 (None, 14, 14, 728)  536536      block7_sepconv3_act[0][0]        \n",
      "__________________________________________________________________________________________________\n",
      "block7_sepconv3_bn (BatchNormal (None, 14, 14, 728)  2912        block7_sepconv3[0][0]            \n",
      "__________________________________________________________________________________________________\n",
      "add_5 (Add)                     (None, 14, 14, 728)  0           block7_sepconv3_bn[0][0]         \n",
      "                                                                 add_4[0][0]                      \n",
      "__________________________________________________________________________________________________\n",
      "block8_sepconv1_act (Activation (None, 14, 14, 728)  0           add_5[0][0]                      \n",
      "__________________________________________________________________________________________________\n",
      "block8_sepconv1 (SeparableConv2 (None, 14, 14, 728)  536536      block8_sepconv1_act[0][0]        \n",
      "__________________________________________________________________________________________________\n",
      "block8_sepconv1_bn (BatchNormal (None, 14, 14, 728)  2912        block8_sepconv1[0][0]            \n",
      "__________________________________________________________________________________________________\n",
      "block8_sepconv2_act (Activation (None, 14, 14, 728)  0           block8_sepconv1_bn[0][0]         \n",
      "__________________________________________________________________________________________________\n",
      "block8_sepconv2 (SeparableConv2 (None, 14, 14, 728)  536536      block8_sepconv2_act[0][0]        \n",
      "__________________________________________________________________________________________________\n",
      "block8_sepconv2_bn (BatchNormal (None, 14, 14, 728)  2912        block8_sepconv2[0][0]            \n",
      "__________________________________________________________________________________________________\n",
      "block8_sepconv3_act (Activation (None, 14, 14, 728)  0           block8_sepconv2_bn[0][0]         \n",
      "__________________________________________________________________________________________________\n",
      "block8_sepconv3 (SeparableConv2 (None, 14, 14, 728)  536536      block8_sepconv3_act[0][0]        \n",
      "__________________________________________________________________________________________________\n",
      "block8_sepconv3_bn (BatchNormal (None, 14, 14, 728)  2912        block8_sepconv3[0][0]            \n",
      "__________________________________________________________________________________________________\n",
      "add_6 (Add)                     (None, 14, 14, 728)  0           block8_sepconv3_bn[0][0]         \n",
      "                                                                 add_5[0][0]                      \n",
      "__________________________________________________________________________________________________\n",
      "block9_sepconv1_act (Activation (None, 14, 14, 728)  0           add_6[0][0]                      \n",
      "__________________________________________________________________________________________________\n",
      "block9_sepconv1 (SeparableConv2 (None, 14, 14, 728)  536536      block9_sepconv1_act[0][0]        \n",
      "__________________________________________________________________________________________________\n",
      "block9_sepconv1_bn (BatchNormal (None, 14, 14, 728)  2912        block9_sepconv1[0][0]            \n",
      "__________________________________________________________________________________________________\n",
      "block9_sepconv2_act (Activation (None, 14, 14, 728)  0           block9_sepconv1_bn[0][0]         \n",
      "__________________________________________________________________________________________________\n",
      "block9_sepconv2 (SeparableConv2 (None, 14, 14, 728)  536536      block9_sepconv2_act[0][0]        \n",
      "__________________________________________________________________________________________________\n",
      "block9_sepconv2_bn (BatchNormal (None, 14, 14, 728)  2912        block9_sepconv2[0][0]            \n",
      "__________________________________________________________________________________________________\n",
      "block9_sepconv3_act (Activation (None, 14, 14, 728)  0           block9_sepconv2_bn[0][0]         \n",
      "__________________________________________________________________________________________________\n",
      "block9_sepconv3 (SeparableConv2 (None, 14, 14, 728)  536536      block9_sepconv3_act[0][0]        \n",
      "__________________________________________________________________________________________________\n",
      "block9_sepconv3_bn (BatchNormal (None, 14, 14, 728)  2912        block9_sepconv3[0][0]            \n",
      "__________________________________________________________________________________________________\n",
      "add_7 (Add)                     (None, 14, 14, 728)  0           block9_sepconv3_bn[0][0]         \n",
      "                                                                 add_6[0][0]                      \n",
      "__________________________________________________________________________________________________\n",
      "block10_sepconv1_act (Activatio (None, 14, 14, 728)  0           add_7[0][0]                      \n",
      "__________________________________________________________________________________________________\n",
      "block10_sepconv1 (SeparableConv (None, 14, 14, 728)  536536      block10_sepconv1_act[0][0]       \n",
      "__________________________________________________________________________________________________\n",
      "block10_sepconv1_bn (BatchNorma (None, 14, 14, 728)  2912        block10_sepconv1[0][0]           \n",
      "__________________________________________________________________________________________________\n",
      "block10_sepconv2_act (Activatio (None, 14, 14, 728)  0           block10_sepconv1_bn[0][0]        \n",
      "__________________________________________________________________________________________________\n",
      "block10_sepconv2 (SeparableConv (None, 14, 14, 728)  536536      block10_sepconv2_act[0][0]       \n",
      "__________________________________________________________________________________________________\n",
      "block10_sepconv2_bn (BatchNorma (None, 14, 14, 728)  2912        block10_sepconv2[0][0]           \n",
      "__________________________________________________________________________________________________\n",
      "block10_sepconv3_act (Activatio (None, 14, 14, 728)  0           block10_sepconv2_bn[0][0]        \n",
      "__________________________________________________________________________________________________\n",
      "block10_sepconv3 (SeparableConv (None, 14, 14, 728)  536536      block10_sepconv3_act[0][0]       \n",
      "__________________________________________________________________________________________________\n",
      "block10_sepconv3_bn (BatchNorma (None, 14, 14, 728)  2912        block10_sepconv3[0][0]           \n",
      "__________________________________________________________________________________________________\n",
      "add_8 (Add)                     (None, 14, 14, 728)  0           block10_sepconv3_bn[0][0]        \n",
      "                                                                 add_7[0][0]                      \n",
      "__________________________________________________________________________________________________\n",
      "block11_sepconv1_act (Activatio (None, 14, 14, 728)  0           add_8[0][0]                      \n",
      "__________________________________________________________________________________________________\n",
      "block11_sepconv1 (SeparableConv (None, 14, 14, 728)  536536      block11_sepconv1_act[0][0]       \n",
      "__________________________________________________________________________________________________\n",
      "block11_sepconv1_bn (BatchNorma (None, 14, 14, 728)  2912        block11_sepconv1[0][0]           \n",
      "__________________________________________________________________________________________________\n",
      "block11_sepconv2_act (Activatio (None, 14, 14, 728)  0           block11_sepconv1_bn[0][0]        \n",
      "__________________________________________________________________________________________________\n",
      "block11_sepconv2 (SeparableConv (None, 14, 14, 728)  536536      block11_sepconv2_act[0][0]       \n",
      "__________________________________________________________________________________________________\n",
      "block11_sepconv2_bn (BatchNorma (None, 14, 14, 728)  2912        block11_sepconv2[0][0]           \n",
      "__________________________________________________________________________________________________\n",
      "block11_sepconv3_act (Activatio (None, 14, 14, 728)  0           block11_sepconv2_bn[0][0]        \n",
      "__________________________________________________________________________________________________\n",
      "block11_sepconv3 (SeparableConv (None, 14, 14, 728)  536536      block11_sepconv3_act[0][0]       \n",
      "__________________________________________________________________________________________________\n",
      "block11_sepconv3_bn (BatchNorma (None, 14, 14, 728)  2912        block11_sepconv3[0][0]           \n",
      "__________________________________________________________________________________________________\n",
      "add_9 (Add)                     (None, 14, 14, 728)  0           block11_sepconv3_bn[0][0]        \n",
      "                                                                 add_8[0][0]                      \n",
      "__________________________________________________________________________________________________\n",
      "block12_sepconv1_act (Activatio (None, 14, 14, 728)  0           add_9[0][0]                      \n",
      "__________________________________________________________________________________________________\n",
      "block12_sepconv1 (SeparableConv (None, 14, 14, 728)  536536      block12_sepconv1_act[0][0]       \n",
      "__________________________________________________________________________________________________\n",
      "block12_sepconv1_bn (BatchNorma (None, 14, 14, 728)  2912        block12_sepconv1[0][0]           \n",
      "__________________________________________________________________________________________________\n",
      "block12_sepconv2_act (Activatio (None, 14, 14, 728)  0           block12_sepconv1_bn[0][0]        \n",
      "__________________________________________________________________________________________________\n",
      "block12_sepconv2 (SeparableConv (None, 14, 14, 728)  536536      block12_sepconv2_act[0][0]       \n",
      "__________________________________________________________________________________________________\n",
      "block12_sepconv2_bn (BatchNorma (None, 14, 14, 728)  2912        block12_sepconv2[0][0]           \n",
      "__________________________________________________________________________________________________\n",
      "block12_sepconv3_act (Activatio (None, 14, 14, 728)  0           block12_sepconv2_bn[0][0]        \n",
      "__________________________________________________________________________________________________\n",
      "block12_sepconv3 (SeparableConv (None, 14, 14, 728)  536536      block12_sepconv3_act[0][0]       \n",
      "__________________________________________________________________________________________________\n",
      "block12_sepconv3_bn (BatchNorma (None, 14, 14, 728)  2912        block12_sepconv3[0][0]           \n",
      "__________________________________________________________________________________________________\n",
      "add_10 (Add)                    (None, 14, 14, 728)  0           block12_sepconv3_bn[0][0]        \n",
      "                                                                 add_9[0][0]                      \n",
      "__________________________________________________________________________________________________\n",
      "block13_sepconv1_act (Activatio (None, 14, 14, 728)  0           add_10[0][0]                     \n",
      "__________________________________________________________________________________________________\n",
      "block13_sepconv1 (SeparableConv (None, 14, 14, 728)  536536      block13_sepconv1_act[0][0]       \n",
      "__________________________________________________________________________________________________\n",
      "block13_sepconv1_bn (BatchNorma (None, 14, 14, 728)  2912        block13_sepconv1[0][0]           \n",
      "__________________________________________________________________________________________________\n",
      "block13_sepconv2_act (Activatio (None, 14, 14, 728)  0           block13_sepconv1_bn[0][0]        \n",
      "__________________________________________________________________________________________________\n",
      "block13_sepconv2 (SeparableConv (None, 14, 14, 1024) 752024      block13_sepconv2_act[0][0]       \n",
      "__________________________________________________________________________________________________\n",
      "block13_sepconv2_bn (BatchNorma (None, 14, 14, 1024) 4096        block13_sepconv2[0][0]           \n",
      "__________________________________________________________________________________________________\n",
      "conv2d_3 (Conv2D)               (None, 7, 7, 1024)   745472      add_10[0][0]                     \n",
      "__________________________________________________________________________________________________\n",
      "block13_pool (MaxPooling2D)     (None, 7, 7, 1024)   0           block13_sepconv2_bn[0][0]        \n",
      "__________________________________________________________________________________________________\n",
      "batch_normalization_3 (BatchNor (None, 7, 7, 1024)   4096        conv2d_3[0][0]                   \n",
      "__________________________________________________________________________________________________\n",
      "add_11 (Add)                    (None, 7, 7, 1024)   0           block13_pool[0][0]               \n",
      "                                                                 batch_normalization_3[0][0]      \n",
      "__________________________________________________________________________________________________\n",
      "block14_sepconv1 (SeparableConv (None, 7, 7, 1536)   1582080     add_11[0][0]                     \n",
      "__________________________________________________________________________________________________\n",
      "block14_sepconv1_bn (BatchNorma (None, 7, 7, 1536)   6144        block14_sepconv1[0][0]           \n",
      "__________________________________________________________________________________________________\n",
      "block14_sepconv1_act (Activatio (None, 7, 7, 1536)   0           block14_sepconv1_bn[0][0]        \n",
      "__________________________________________________________________________________________________\n",
      "block14_sepconv2 (SeparableConv (None, 7, 7, 2048)   3159552     block14_sepconv1_act[0][0]       \n",
      "__________________________________________________________________________________________________\n",
      "block14_sepconv2_bn (BatchNorma (None, 7, 7, 2048)   8192        block14_sepconv2[0][0]           \n",
      "__________________________________________________________________________________________________\n",
      "block14_sepconv2_act (Activatio (None, 7, 7, 2048)   0           block14_sepconv2_bn[0][0]        \n",
      "__________________________________________________________________________________________________\n",
      "global_average_pooling2d (Globa (None, 2048)         0           block14_sepconv2_act[0][0]       \n",
      "__________________________________________________________________________________________________\n",
      "flatten (Flatten)               (None, 2048)         0           global_average_pooling2d[0][0]   \n",
      "__________________________________________________________________________________________________\n",
      "dense (Dense)                   (None, 120)          245880      flatten[0][0]                    \n",
      "==================================================================================================\n",
      "Total params: 21,107,360\n",
      "Trainable params: 21,052,832\n",
      "Non-trainable params: 54,528\n",
      "__________________________________________________________________________________________________\n"
     ]
    }
   ],
   "source": [
    "model.summary()"
   ]
  },
  {
   "cell_type": "code",
   "execution_count": 14,
   "id": "precise-gentleman",
   "metadata": {
    "execution": {
     "iopub.execute_input": "2021-06-11T08:33:27.464546Z",
     "iopub.status.busy": "2021-06-11T08:33:27.463802Z",
     "iopub.status.idle": "2021-06-11T08:33:27.481198Z",
     "shell.execute_reply": "2021-06-11T08:33:27.480529Z",
     "shell.execute_reply.started": "2021-06-10T08:26:39.87019Z"
    },
    "papermill": {
     "duration": 0.062187,
     "end_time": "2021-06-11T08:33:27.481347",
     "exception": false,
     "start_time": "2021-06-11T08:33:27.419160",
     "status": "completed"
    },
    "tags": []
   },
   "outputs": [],
   "source": [
    "for layer in base_model.layers:\n",
    "    layer.trainable = False"
   ]
  },
  {
   "cell_type": "code",
   "execution_count": 15,
   "id": "formed-relations",
   "metadata": {
    "execution": {
     "iopub.execute_input": "2021-06-11T08:33:27.584431Z",
     "iopub.status.busy": "2021-06-11T08:33:27.583629Z",
     "iopub.status.idle": "2021-06-11T08:33:27.621340Z",
     "shell.execute_reply": "2021-06-11T08:33:27.621997Z",
     "shell.execute_reply.started": "2021-06-10T08:26:43.724978Z"
    },
    "papermill": {
     "duration": 0.092742,
     "end_time": "2021-06-11T08:33:27.622196",
     "exception": false,
     "start_time": "2021-06-11T08:33:27.529454",
     "status": "completed"
    },
    "tags": []
   },
   "outputs": [],
   "source": [
    "from tensorflow.keras.optimizers import Adam\n",
    "optimizer = Adam(lr = 0.0001)\n",
    "model.compile(loss = \"categorical_crossentropy\",optimizer = optimizer,metrics = ['accuracy'])\n",
    "epochs = 10\n",
    "batch_size = 32"
   ]
  },
  {
   "cell_type": "code",
   "execution_count": 16,
   "id": "neutral-termination",
   "metadata": {
    "execution": {
     "iopub.execute_input": "2021-06-11T08:33:27.739164Z",
     "iopub.status.busy": "2021-06-11T08:33:27.738321Z",
     "iopub.status.idle": "2021-06-11T08:41:58.697765Z",
     "shell.execute_reply": "2021-06-11T08:41:58.697112Z",
     "shell.execute_reply.started": "2021-06-10T08:28:13.051473Z"
    },
    "papermill": {
     "duration": 511.01697,
     "end_time": "2021-06-11T08:41:58.697909",
     "exception": false,
     "start_time": "2021-06-11T08:33:27.680939",
     "status": "completed"
    },
    "tags": []
   },
   "outputs": [
    {
     "name": "stdout",
     "output_type": "stream",
     "text": [
      "Epoch 1/10\n",
      "240/240 [==============================] - 98s 377ms/step - loss: 4.2181 - accuracy: 0.1821 - val_loss: 2.5073 - val_accuracy: 0.6434\n",
      "Epoch 2/10\n",
      "240/240 [==============================] - 46s 192ms/step - loss: 2.0837 - accuracy: 0.7106 - val_loss: 1.4828 - val_accuracy: 0.7487\n",
      "Epoch 3/10\n",
      "240/240 [==============================] - 46s 190ms/step - loss: 1.2468 - accuracy: 0.7908 - val_loss: 1.1117 - val_accuracy: 0.7671\n",
      "Epoch 4/10\n",
      "240/240 [==============================] - 46s 192ms/step - loss: 0.9314 - accuracy: 0.8219 - val_loss: 0.9496 - val_accuracy: 0.7808\n",
      "Epoch 5/10\n",
      "240/240 [==============================] - 46s 189ms/step - loss: 0.7857 - accuracy: 0.8295 - val_loss: 0.8645 - val_accuracy: 0.7843\n",
      "Epoch 6/10\n",
      "240/240 [==============================] - 46s 190ms/step - loss: 0.6844 - accuracy: 0.8444 - val_loss: 0.8142 - val_accuracy: 0.7883\n",
      "Epoch 7/10\n",
      "240/240 [==============================] - 46s 191ms/step - loss: 0.6101 - accuracy: 0.8544 - val_loss: 0.7798 - val_accuracy: 0.7910\n",
      "Epoch 8/10\n",
      "240/240 [==============================] - 46s 191ms/step - loss: 0.5622 - accuracy: 0.8674 - val_loss: 0.7610 - val_accuracy: 0.7890\n",
      "Epoch 9/10\n",
      "240/240 [==============================] - 45s 188ms/step - loss: 0.5142 - accuracy: 0.8753 - val_loss: 0.7393 - val_accuracy: 0.7926\n",
      "Epoch 10/10\n",
      "240/240 [==============================] - 47s 194ms/step - loss: 0.5024 - accuracy: 0.8748 - val_loss: 0.7284 - val_accuracy: 0.7906\n"
     ]
    }
   ],
   "source": [
    "history = model.fit(train_generator, epochs = epochs, validation_data = valid_generator)"
   ]
  },
  {
   "cell_type": "code",
   "execution_count": 17,
   "id": "secret-shoulder",
   "metadata": {
    "execution": {
     "iopub.execute_input": "2021-06-11T08:42:00.026186Z",
     "iopub.status.busy": "2021-06-11T08:42:00.025576Z",
     "iopub.status.idle": "2021-06-11T08:42:00.273586Z",
     "shell.execute_reply": "2021-06-11T08:42:00.274029Z",
     "shell.execute_reply.started": "2021-06-10T08:51:16.350086Z"
    },
    "papermill": {
     "duration": 0.938962,
     "end_time": "2021-06-11T08:42:00.274186",
     "exception": false,
     "start_time": "2021-06-11T08:41:59.335224",
     "status": "completed"
    },
    "tags": []
   },
   "outputs": [
    {
     "data": {
      "image/png": "[encoded data removed]",
      "text/plain": [
       "<Figure size 864x288 with 2 Axes>"
      ]
     },
     "metadata": {
      "needs_background": "light"
     },
     "output_type": "display_data"
    }
   ],
   "source": [
    "fig , ax = plt.subplots(1,2)\n",
    "train_acc = history.history['accuracy']\n",
    "train_loss = history.history['loss']\n",
    "fig.set_size_inches(12,4)\n",
    "\n",
    "ax[0].plot(history.history['accuracy'])\n",
    "ax[0].plot(history.history['val_accuracy'])\n",
    "ax[0].set_title('Training Accuracy vs Validation Accuracy')\n",
    "ax[0].set_ylabel('Accuracy')\n",
    "ax[0].set_xlabel('Epoch')\n",
    "ax[0].legend(['Train', 'Validation'], loc='upper left')\n",
    "\n",
    "ax[1].plot(history.history['loss'])\n",
    "ax[1].plot(history.history['val_loss'])\n",
    "ax[1].set_title('Training Loss vs Validation Loss')\n",
    "ax[1].set_ylabel('Loss')\n",
    "ax[1].set_xlabel('Epoch')\n",
    "ax[1].legend(['Train', 'Validation'], loc='upper left')\n",
    "\n",
    "plt.show()"
   ]
  },
  {
   "cell_type": "code",
   "execution_count": 18,
   "id": "close-dispatch",
   "metadata": {
    "execution": {
     "iopub.execute_input": "2021-06-11T08:42:01.551663Z",
     "iopub.status.busy": "2021-06-11T08:42:01.550333Z",
     "iopub.status.idle": "2021-06-11T08:42:47.233346Z",
     "shell.execute_reply": "2021-06-11T08:42:47.232912Z",
     "shell.execute_reply.started": "2021-06-10T08:52:28.565643Z"
    },
    "papermill": {
     "duration": 46.327125,
     "end_time": "2021-06-11T08:42:47.233465",
     "exception": false,
     "start_time": "2021-06-11T08:42:00.906340",
     "status": "completed"
    },
    "tags": []
   },
   "outputs": [
    {
     "name": "stdout",
     "output_type": "stream",
     "text": [
      "240/240 [==============================] - 34s 143ms/step - loss: 0.4672 - accuracy: 0.8826\n",
      "80/80 [==============================] - 11s 137ms/step - loss: 0.7284 - accuracy: 0.7906\n",
      "final train accuracy = 88.26 , validation accuracy = 79.06\n"
     ]
    }
   ],
   "source": [
    "train_loss, train_acc = model.evaluate(train_generator)\n",
    "test_loss, test_acc   = model.evaluate(valid_generator)\n",
    "print(\"final train accuracy = {:.2f} , validation accuracy = {:.2f}\".format(train_acc*100, test_acc*100))"
   ]
  }
 ],
 "metadata": {
  "kernelspec": {
   "display_name": "Python 3",
   "language": "python",
   "name": "python3"
  },
  "language_info": {
   "codemirror_mode": {
    "name": "ipython",
    "version": 3
   },
   "file_extension": ".py",
   "mimetype": "text/x-python",
   "name": "python",
   "nbconvert_exporter": "python",
   "pygments_lexer": "ipython3",
   "version": "3.7.10"
  },
  "papermill": {
   "default_parameters": {},
   "duration": 591.921624,
   "end_time": "2021-06-11T08:42:50.562819",
   "environment_variables": {},
   "exception": null,
   "input_path": "__notebook__.ipynb",
   "output_path": "__notebook__.ipynb",
   "parameters": {},
   "start_time": "2021-06-11T08:32:58.641195",
   "version": "2.3.3"
  }
 },
 "nbformat": 4,
 "nbformat_minor": 5
}
